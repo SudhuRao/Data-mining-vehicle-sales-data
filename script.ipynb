{
 "cells": [
  {
   "cell_type": "markdown",
   "metadata": {},
   "source": [
    "# Data mining vehicle sales data"
   ]
  },
  {
   "cell_type": "code",
   "execution_count": 1,
   "metadata": {},
   "outputs": [],
   "source": [
    "#Import libraries\n",
    "import numpy as np\n",
    "import pandas as pd\n",
    "import matplotlib.pyplot as plt\n",
    "import datetime as dt"
   ]
  },
  {
   "cell_type": "code",
   "execution_count": 2,
   "metadata": {},
   "outputs": [],
   "source": [
    "#Import data\n",
    "df = pd.read_csv('AS24_Case_Study_Data.csv',delimiter=';')"
   ]
  },
  {
   "cell_type": "code",
   "execution_count": 3,
   "metadata": {},
   "outputs": [
    {
     "data": {
      "text/html": [
       "<div>\n",
       "<style scoped>\n",
       "    .dataframe tbody tr th:only-of-type {\n",
       "        vertical-align: middle;\n",
       "    }\n",
       "\n",
       "    .dataframe tbody tr th {\n",
       "        vertical-align: top;\n",
       "    }\n",
       "\n",
       "    .dataframe thead th {\n",
       "        text-align: right;\n",
       "    }\n",
       "</style>\n",
       "<table border=\"1\" class=\"dataframe\">\n",
       "  <thead>\n",
       "    <tr style=\"text-align: right;\">\n",
       "      <th></th>\n",
       "      <th>article_id</th>\n",
       "      <th>product_tier</th>\n",
       "      <th>make_name</th>\n",
       "      <th>price</th>\n",
       "      <th>first_zip_digit</th>\n",
       "      <th>first_registration_year</th>\n",
       "      <th>created_date</th>\n",
       "      <th>deleted_date</th>\n",
       "      <th>search_views</th>\n",
       "      <th>detail_views</th>\n",
       "      <th>stock_days</th>\n",
       "      <th>ctr</th>\n",
       "    </tr>\n",
       "  </thead>\n",
       "  <tbody>\n",
       "    <tr>\n",
       "      <th>0</th>\n",
       "      <td>350625839</td>\n",
       "      <td>Basic</td>\n",
       "      <td>Mitsubishi</td>\n",
       "      <td>16750</td>\n",
       "      <td>5</td>\n",
       "      <td>2013</td>\n",
       "      <td>24.07.18</td>\n",
       "      <td>24.08.18</td>\n",
       "      <td>3091.0</td>\n",
       "      <td>123.0</td>\n",
       "      <td>30</td>\n",
       "      <td>0.03780329990294403</td>\n",
       "    </tr>\n",
       "    <tr>\n",
       "      <th>1</th>\n",
       "      <td>354412280</td>\n",
       "      <td>Basic</td>\n",
       "      <td>Mercedes-Benz</td>\n",
       "      <td>35950</td>\n",
       "      <td>4</td>\n",
       "      <td>2015</td>\n",
       "      <td>16.08.18</td>\n",
       "      <td>07.10.18</td>\n",
       "      <td>3283.0</td>\n",
       "      <td>223.0</td>\n",
       "      <td>52</td>\n",
       "      <td>0.06792567773378008</td>\n",
       "    </tr>\n",
       "    <tr>\n",
       "      <th>2</th>\n",
       "      <td>349572992</td>\n",
       "      <td>Basic</td>\n",
       "      <td>Mercedes-Benz</td>\n",
       "      <td>11950</td>\n",
       "      <td>3</td>\n",
       "      <td>1998</td>\n",
       "      <td>16.07.18</td>\n",
       "      <td>05.09.18</td>\n",
       "      <td>3247.0</td>\n",
       "      <td>265.0</td>\n",
       "      <td>51</td>\n",
       "      <td>0.0816137973514013</td>\n",
       "    </tr>\n",
       "    <tr>\n",
       "      <th>3</th>\n",
       "      <td>350266763</td>\n",
       "      <td>Basic</td>\n",
       "      <td>Ford</td>\n",
       "      <td>1750</td>\n",
       "      <td>6</td>\n",
       "      <td>2003</td>\n",
       "      <td>20.07.18</td>\n",
       "      <td>29.10.18</td>\n",
       "      <td>1856.0</td>\n",
       "      <td>26.0</td>\n",
       "      <td>101</td>\n",
       "      <td>0.014008620689655173</td>\n",
       "    </tr>\n",
       "    <tr>\n",
       "      <th>4</th>\n",
       "      <td>355688985</td>\n",
       "      <td>Basic</td>\n",
       "      <td>Mercedes-Benz</td>\n",
       "      <td>26500</td>\n",
       "      <td>3</td>\n",
       "      <td>2014</td>\n",
       "      <td>28.08.18</td>\n",
       "      <td>08.09.18</td>\n",
       "      <td>490.0</td>\n",
       "      <td>20.0</td>\n",
       "      <td>12</td>\n",
       "      <td>0.04081632653061224</td>\n",
       "    </tr>\n",
       "  </tbody>\n",
       "</table>\n",
       "</div>"
      ],
      "text/plain": [
       "   article_id product_tier      make_name  price  first_zip_digit  \\\n",
       "0   350625839        Basic     Mitsubishi  16750                5   \n",
       "1   354412280        Basic  Mercedes-Benz  35950                4   \n",
       "2   349572992        Basic  Mercedes-Benz  11950                3   \n",
       "3   350266763        Basic           Ford   1750                6   \n",
       "4   355688985        Basic  Mercedes-Benz  26500                3   \n",
       "\n",
       "   first_registration_year created_date deleted_date  search_views  \\\n",
       "0                     2013     24.07.18     24.08.18        3091.0   \n",
       "1                     2015     16.08.18     07.10.18        3283.0   \n",
       "2                     1998     16.07.18     05.09.18        3247.0   \n",
       "3                     2003     20.07.18     29.10.18        1856.0   \n",
       "4                     2014     28.08.18     08.09.18         490.0   \n",
       "\n",
       "   detail_views  stock_days                   ctr  \n",
       "0         123.0          30   0.03780329990294403  \n",
       "1         223.0          52   0.06792567773378008  \n",
       "2         265.0          51    0.0816137973514013  \n",
       "3          26.0         101  0.014008620689655173  \n",
       "4          20.0          12   0.04081632653061224  "
      ]
     },
     "execution_count": 3,
     "metadata": {},
     "output_type": "execute_result"
    }
   ],
   "source": [
    "df.head()"
   ]
  },
  {
   "cell_type": "markdown",
   "metadata": {},
   "source": [
    "Description :\n",
    "\n",
    "    article_id\t             unique article identifier\n",
    "    product_tier\t           premium status of the article\n",
    "    make_name\t              name of the car manufacturer\n",
    "    price\t                  price of the article\n",
    "    first_zip_digit\t        first digit of the zip code of the region the article is offered in\n",
    "    first_registration_year\tyear of the first registration of the article\n",
    "    created_date\t           creation date of the listing\n",
    "    deleted_date\t           deletion date of the listing\n",
    "    search_views\t           number of times the article has been shown as a search result\n",
    "    detail_views\t           number of times the article has been clicked on\n",
    "    stock_days\t             Time in days between the creation of the listing and the deletion of the listing\n",
    "    ctr\t                    Click through rate calculated as the quotient of detail_views over search_views\n"
   ]
  },
  {
   "cell_type": "markdown",
   "metadata": {},
   "source": [
    "# Data Visualization"
   ]
  },
  {
   "cell_type": "markdown",
   "metadata": {},
   "source": [
    "In this section we try to understand the data and its relationship to target variables."
   ]
  },
  {
   "cell_type": "code",
   "execution_count": 4,
   "metadata": {},
   "outputs": [
    {
     "data": {
      "text/plain": [
       "Index(['article_id', 'product_tier', 'make_name', 'price', 'first_zip_digit',\n",
       "       'first_registration_year', 'created_date', 'deleted_date',\n",
       "       'search_views', 'detail_views', 'stock_days', 'ctr'],\n",
       "      dtype='object')"
      ]
     },
     "execution_count": 4,
     "metadata": {},
     "output_type": "execute_result"
    }
   ],
   "source": [
    "df.columns"
   ]
  },
  {
   "cell_type": "markdown",
   "metadata": {},
   "source": [
    "### 1. Visualize car_make data"
   ]
  },
  {
   "cell_type": "code",
   "execution_count": 5,
   "metadata": {},
   "outputs": [],
   "source": [
    "#Get the percentage of each car make in each product tier\n",
    "plus_car = df.make_name.value_counts(normalize=True)\n",
    "premium_car = df.make_name.value_counts(normalize=True)\n",
    "basic_car = df.make_name.value_counts(normalize=True)\n",
    "for car in df.make_name.value_counts().index :\n",
    "    try: \n",
    "        plus_car[car]= df.make_name[df.product_tier =='Plus'].value_counts(normalize=True)[car]\n",
    "    except:\n",
    "        plus_car[car] = 0\n",
    "        \n",
    "        \n",
    "    try: \n",
    "        premium_car[car]= df.make_name[df.product_tier =='Premium'].value_counts(normalize=True)[car]\n",
    "    except:\n",
    "        premium_car[car] = 0\n",
    "        \n",
    "                \n",
    "    try: \n",
    "        basic_car[car]= df.make_name[df.product_tier =='Basic'].value_counts(normalize=True)[car]\n",
    "    except:\n",
    "        basic_car[car] = 0"
   ]
  },
  {
   "cell_type": "code",
   "execution_count": 6,
   "metadata": {},
   "outputs": [
    {
     "name": "stdout",
     "output_type": "stream",
     "text": [
      "Car             Total      Normalized           Basic(Norm)          Plus(Norm)          Premium(Norm)       \n",
      "Volkswagen      9430       0.120402              0.120020              0.133681               0.129518            \n",
      "Renault         6956       0.088814              0.090081              0.086806               0.048193            \n",
      "Peugeot         5446       0.069534              0.070193              0.050347               0.052926            \n",
      "Opel            5218       0.066623              0.067143              0.048611               0.054217            \n",
      "Ford            5199       0.066381              0.066865              0.045139               0.055938            \n",
      "Mercedes-Benz   4766       0.060852              0.060500              0.053819               0.074010            \n",
      "BMW             4554       0.058145              0.056947              0.052083               0.098537            \n",
      "Volvo           3994       0.050995              0.050516              0.055556               0.065404            \n",
      "Toyota          3924       0.050102              0.050371              0.055556               0.040017            \n",
      "Audi            3313       0.042300              0.041036              0.046875               0.082186            \n",
      "Citroen         3017       0.038521              0.038623              0.029514               0.037435            \n",
      "Fiat            2589       0.033056              0.033373              0.038194               0.021515            \n",
      "Nissan          2016       0.025740              0.025881              0.024306               0.021515            \n",
      "Kia             1931       0.024655              0.024993              0.017361               0.015491            \n",
      "Hyundai         1802       0.023008              0.023349              0.015625               0.013769            \n",
      "SEAT            1773       0.022638              0.022673              0.020833               0.021945            \n",
      "Skoda           1516       0.019356              0.019451              0.013889               0.017642            \n",
      "Suzuki          1312       0.016752              0.016786              0.036458               0.010757            \n",
      "MINI            1234       0.015756              0.015805              0.013889               0.014630            \n",
      "Mazda           1198       0.015296              0.015049              0.027778               0.020224            \n",
      "Mitsubishi      1067       0.013623              0.013590              0.012153               0.015060            \n",
      "Land Rover      545        0.006959              0.006775              0.010417               0.012048            \n",
      "Honda           538        0.006869              0.006656              0.017361               0.011188            \n",
      "Alfa Romeo      532        0.006793              0.006696              0.012153               0.008606            \n",
      "Porsche         524        0.006690              0.006616              0.010417               0.008176            \n",
      "Chevrolet       485        0.006192              0.006152              0.010417               0.006454            \n",
      "Dacia           440        0.005618              0.005675              0.005208               0.003873            \n",
      "Lexus           303        0.003869              0.003858              0.003472               0.004303            \n",
      "Jaguar          275        0.003511              0.003500              0.003472               0.003873            \n",
      "Iveco           222        0.002834              0.002890              0.000000               0.001721            \n",
      "Daihatsu        197        0.002515              0.002532              0.003472               0.001721            \n",
      "Saab            186        0.002375              0.002334              0.008681               0.002151            \n",
      "smart           183        0.002337              0.002413              0.000000               0.000430            \n",
      "Subaru          163        0.002081              0.002108              0.001736               0.001291            \n",
      "Jeep            160        0.002043              0.002015              0.005208               0.002151            \n",
      "Dodge           139        0.001775              0.001710              0.006944               0.002582            \n",
      "Chrysler        117        0.001494              0.001432              0.006944               0.002151            \n",
      "Oldtimer        108        0.001379              0.001405              0.000000               0.000861            \n",
      "Caravans-Wohnm  95         0.001213              0.001260              0.000000               0.000000            \n",
      "Daewoo          91         0.001162              0.001167              0.003472               0.000430            \n",
      "Tesla           84         0.001073              0.000941              0.000000               0.005594            \n",
      "Lancia          77         0.000983              0.000994              0.000000               0.000861            \n",
      "MG              70         0.000894              0.000902              0.000000               0.000861            \n",
      "DS Automobiles  51         0.000651              0.000663              0.001736               0.000000            \n",
      "Others          41         0.000523              0.000544              0.000000               0.000000            \n",
      "Triumph         38         0.000485              0.000504              0.000000               0.000000            \n",
      "Maserati        36         0.000460              0.000438              0.000000               0.001291            \n",
      "Bentley         35         0.000447              0.000438              0.003472               0.000000            \n",
      "Ferrari         31         0.000396              0.000411              0.000000               0.000000            \n",
      "SsangYong       27         0.000345              0.000318              0.000000               0.001291            \n",
      "Aixam           24         0.000306              0.000265              0.000000               0.001721            \n",
      "Rover           23         0.000294              0.000292              0.000000               0.000430            \n",
      "Cadillac        23         0.000294              0.000305              0.000000               0.000000            \n",
      "Aston Martin    22         0.000281              0.000278              0.001736               0.000000            \n",
      "Abarth          21         0.000268              0.000278              0.000000               0.000000            \n",
      "Trucks-Lkw      18         0.000230              0.000239              0.000000               0.000000            \n",
      "Microcar        14         0.000179              0.000186              0.000000               0.000000            \n",
      "Austin          11         0.000140              0.000146              0.000000               0.000000            \n",
      "Lincoln         10         0.000128              0.000119              0.000000               0.000430            \n",
      "Ligier          10         0.000128              0.000133              0.000000               0.000000            \n",
      "Rolls-Royce     9          0.000115              0.000106              0.000000               0.000430            \n",
      "Infiniti        9          0.000115              0.000106              0.000000               0.000430            \n",
      "Isuzu           7          0.000089              0.000080              0.000000               0.000430            \n",
      "Alpina          7          0.000089              0.000080              0.001736               0.000000            \n",
      "Buick           6          0.000077              0.000053              0.001736               0.000430            \n",
      "Corvette        5          0.000064              0.000066              0.000000               0.000000            \n",
      "Daimler         4          0.000051              0.000053              0.000000               0.000000            \n",
      "GMC             4          0.000051              0.000053              0.000000               0.000000            \n",
      "Pontiac         4          0.000051              0.000053              0.000000               0.000000            \n",
      "HUMMER          4          0.000051              0.000040              0.000000               0.000430            \n",
      "De Tomaso       4          0.000051              0.000053              0.000000               0.000000            \n",
      "FISKER          4          0.000051              0.000053              0.000000               0.000000            \n",
      "Lamborghini     3          0.000038              0.000027              0.001736               0.000000            \n",
      "Lotus           3          0.000038              0.000040              0.000000               0.000000            \n",
      "Alpine          3          0.000038              0.000040              0.000000               0.000000            \n",
      "Oldsmobile      3          0.000038              0.000040              0.000000               0.000000            \n"
     ]
    },
    {
     "name": "stdout",
     "output_type": "stream",
     "text": [
      "McLaren         2          0.000026              0.000027              0.000000               0.000000            \n",
      "Morgan          2          0.000026              0.000027              0.000000               0.000000            \n",
      "Chatenet        2          0.000026              0.000027              0.000000               0.000000            \n",
      "Donkervoort     1          0.000013              0.000013              0.000000               0.000000            \n",
      "AC              1          0.000013              0.000013              0.000000               0.000000            \n",
      "Tata            1          0.000013              0.000000              0.000000               0.000430            \n",
      "DFSK            1          0.000013              0.000013              0.000000               0.000000            \n",
      "Grecav          1          0.000013              0.000013              0.000000               0.000000            \n",
      "Piaggio         1          0.000013              0.000013              0.000000               0.000000            \n",
      "Kawasaki        1          0.000013              0.000013              0.000000               0.000000            \n",
      "Amphicar        1          0.000013              0.000013              0.000000               0.000000            \n",
      "TVR             1          0.000013              0.000013              0.000000               0.000000            \n",
      "MAN             1          0.000013              0.000013              0.000000               0.000000            \n",
      "KTM             1          0.000013              0.000013              0.000000               0.000000            \n",
      "Casalini        1          0.000013              0.000013              0.000000               0.000000            \n"
     ]
    }
   ],
   "source": [
    "#Car make, instances, normalized\n",
    "\n",
    "print('{:<15s} {:<10s} {:<20s} {:<20s} {:<20s}{:<20s}'.format('Car','Total','Normalized','Basic(Norm)','Plus(Norm)','Premium(Norm)'))\n",
    "for car in df.make_name.value_counts().index:\n",
    "    print('{:<15s} {:<10d} {:<20f}  {:<20f}  {:<20f}   {:<20f}'.format(car,\n",
    "    df.make_name.value_counts()[car],                                      \n",
    "    df.make_name.value_counts(normalize=True)[car],\n",
    "    basic_car[car],\n",
    "    plus_car[car],                                      \n",
    "    premium_car[car]))\n",
    "\n"
   ]
  },
  {
   "cell_type": "markdown",
   "metadata": {},
   "source": [
    "From the above data it can be inferred that the normalized car count, Basic tier count, Plus tier count and Premium tier count is almost same. \n",
    "There is no evidence of any particular car make being preferred over other for product tier."
   ]
  },
  {
   "cell_type": "markdown",
   "metadata": {},
   "source": [
    "### 2. Visualize product tier information"
   ]
  },
  {
   "cell_type": "code",
   "execution_count": 7,
   "metadata": {},
   "outputs": [],
   "source": [
    "#Encode the product_tier\n",
    "df['product_tier'] = df.product_tier.astype('category').cat.codes"
   ]
  },
  {
   "cell_type": "code",
   "execution_count": 8,
   "metadata": {},
   "outputs": [
    {
     "data": {
      "text/plain": [
       "(array([75421.,     0.,     0.,     0.,     0.,   576.,     0.,     0.,\n",
       "            0.,  2324.]),\n",
       " array([0. , 0.2, 0.4, 0.6, 0.8, 1. , 1.2, 1.4, 1.6, 1.8, 2. ]),\n",
       " <a list of 10 Patch objects>)"
      ]
     },
     "execution_count": 8,
     "metadata": {},
     "output_type": "execute_result"
    },
    {
     "data": {
      "image/png": "[encoded data removed]",
      "text/plain": [
       "<Figure size 432x288 with 1 Axes>"
      ]
     },
     "metadata": {
      "needs_background": "light"
     },
     "output_type": "display_data"
    }
   ],
   "source": [
    "#plot histogram of product tier\n",
    "plt.hist(df.product_tier)"
   ]
  },
  {
   "cell_type": "markdown",
   "metadata": {},
   "source": [
    "The classes are imbalanced. A \"naive\" classifier which predicts every data as product tier \"Basic\" will have accuracy of 96.32%. Hence the model should improve F1 score from 0.33 and accuracy above 96.32%"
   ]
  },
  {
   "cell_type": "markdown",
   "metadata": {},
   "source": [
    "### 3. Search and Detail views "
   ]
  },
  {
   "cell_type": "code",
   "execution_count": 9,
   "metadata": {},
   "outputs": [
    {
     "data": {
      "text/plain": [
       "Text(0, 0.5, 'Detail views')"
      ]
     },
     "execution_count": 9,
     "metadata": {},
     "output_type": "execute_result"
    },
    {
     "data": {
      "image/png": "[encoded data removed]",
      "text/plain": [
       "<Figure size 432x288 with 1 Axes>"
      ]
     },
     "metadata": {
      "needs_background": "light"
     },
     "output_type": "display_data"
    }
   ],
   "source": [
    "#search view vs detail view\n",
    "plt.scatter(df.search_views,df.detail_views,c=df.product_tier)\n",
    "plt.xlabel('Search views')\n",
    "plt.ylabel('Detail views')"
   ]
  },
  {
   "cell_type": "code",
   "execution_count": 10,
   "metadata": {},
   "outputs": [
    {
     "data": {
      "text/plain": [
       "Text(0, 0.5, 'Detail views')"
      ]
     },
     "execution_count": 10,
     "metadata": {},
     "output_type": "execute_result"
    },
    {
     "data": {
      "image/png": "[encoded data removed]",
      "text/plain": [
       "<Figure size 432x288 with 1 Axes>"
      ]
     },
     "metadata": {
      "needs_background": "light"
     },
     "output_type": "display_data"
    }
   ],
   "source": [
    "#same plot but with search views limited to a range.\n",
    "plt.scatter(df.search_views,df.detail_views,c=df.product_tier)\n",
    "plt.xlim(0,200000)\n",
    "plt.xlabel('Search views')\n",
    "plt.ylabel('Detail views')"
   ]
  },
  {
   "cell_type": "code",
   "execution_count": 11,
   "metadata": {},
   "outputs": [
    {
     "name": "stderr",
     "output_type": "stream",
     "text": [
      "C:\\Users\\surao\\AppData\\Local\\Continuum\\anaconda3\\envs\\sudu_env\\lib\\site-packages\\pandas\\core\\series.py:679: RuntimeWarning: divide by zero encountered in log\n",
      "  result = getattr(ufunc, method)(*inputs, **kwargs)\n"
     ]
    },
    {
     "data": {
      "text/plain": [
       "Text(0, 0.5, 'Detail views(log)')"
      ]
     },
     "execution_count": 11,
     "metadata": {},
     "output_type": "execute_result"
    },
    {
     "data": {
      "image/png": "[encoded data removed]",
      "text/plain": [
       "<Figure size 432x288 with 1 Axes>"
      ]
     },
     "metadata": {
      "needs_background": "light"
     },
     "output_type": "display_data"
    }
   ],
   "source": [
    "# search view vs logged detail view\n",
    "plt.scatter(df.search_views,np.log(df.detail_views),c=df.product_tier)\n",
    "plt.xlim(0,200000)\n",
    "plt.xlabel('Search views')\n",
    "plt.ylabel('Detail views(log)')"
   ]
  },
  {
   "cell_type": "code",
   "execution_count": 12,
   "metadata": {},
   "outputs": [
    {
     "data": {
      "text/plain": [
       "Text(0, 0.5, 'Detail views')"
      ]
     },
     "execution_count": 12,
     "metadata": {},
     "output_type": "execute_result"
    },
    {
     "data": {
      "image/png": "[encoded data removed]",
      "text/plain": [
       "<Figure size 432x288 with 1 Axes>"
      ]
     },
     "metadata": {
      "needs_background": "light"
     },
     "output_type": "display_data"
    }
   ],
   "source": [
    "# logged search view vs detail view.\n",
    "plt.scatter(np.log(df.search_views),df.detail_views,c=df.product_tier)\n",
    "plt.xlabel('Search views(log)')\n",
    "plt.ylabel('Detail views')"
   ]
  },
  {
   "cell_type": "markdown",
   "metadata": {},
   "source": [
    "the 'ctr' is evaluated as ratio of detail views and search views. As the data is not proper, evaluate again."
   ]
  },
  {
   "cell_type": "code",
   "execution_count": 13,
   "metadata": {},
   "outputs": [
    {
     "data": {
      "text/plain": [
       "<matplotlib.collections.PathCollection at 0x1b2c8abf9b0>"
      ]
     },
     "execution_count": 13,
     "metadata": {},
     "output_type": "execute_result"
    },
    {
     "data": {
      "image/png": "[encoded data removed]",
      "text/plain": [
       "<Figure size 432x288 with 1 Axes>"
      ]
     },
     "metadata": {
      "needs_background": "light"
     },
     "output_type": "display_data"
    }
   ],
   "source": [
    "df.ctr = df.detail_views/df.search_views\n",
    "plt.scatter(df.ctr,df.search_views,c=df.product_tier)"
   ]
  },
  {
   "cell_type": "markdown",
   "metadata": {},
   "source": [
    "From above plots it can be seen that the Premium product tier froms a cluster at high search views and low detail views. Plus product tier does not form any cluster."
   ]
  },
  {
   "cell_type": "markdown",
   "metadata": {},
   "source": [
    "### 4. First registration year and Price"
   ]
  },
  {
   "cell_type": "code",
   "execution_count": 14,
   "metadata": {},
   "outputs": [
    {
     "data": {
      "text/plain": [
       "Text(0, 0.5, 'Product tier')"
      ]
     },
     "execution_count": 14,
     "metadata": {},
     "output_type": "execute_result"
    },
    {
     "data": {
      "image/png": "[encoded data removed]",
      "text/plain": [
       "<Figure size 432x288 with 1 Axes>"
      ]
     },
     "metadata": {
      "needs_background": "light"
     },
     "output_type": "display_data"
    }
   ],
   "source": [
    "#Visualizing the first registration year\n",
    "plt.scatter(df.first_registration_year,df.product_tier)\n",
    "plt.xlim(1920,2025)\n",
    "plt.xlabel('Year')\n",
    "plt.ylabel('Product tier')"
   ]
  },
  {
   "cell_type": "markdown",
   "metadata": {},
   "source": [
    "From above plot we can see that the Premium and Plus product tier is assigned to cars from 1970 onwards and no further information about the distribution is available. \n",
    "Additionally, a new attribute age of car can be created which can help in classification."
   ]
  },
  {
   "cell_type": "code",
   "execution_count": 15,
   "metadata": {},
   "outputs": [
    {
     "data": {
      "text/plain": [
       "Text(0, 0.5, 'Price')"
      ]
     },
     "execution_count": 15,
     "metadata": {},
     "output_type": "execute_result"
    },
    {
     "data": {
      "image/png": "[encoded data removed]",
      "text/plain": [
       "<Figure size 432x288 with 1 Axes>"
      ]
     },
     "metadata": {
      "needs_background": "light"
     },
     "output_type": "display_data"
    }
   ],
   "source": [
    "#Visualizing the first registration year and price\n",
    "plt.scatter(df.first_registration_year,df.price,c=df.product_tier)\n",
    "plt.xlim(1920,2025)\n",
    "plt.xlabel('Year')\n",
    "plt.ylabel('Price')"
   ]
  },
  {
   "cell_type": "markdown",
   "metadata": {},
   "source": [
    "Some New cars, 20 year old cars and around 50 year old cars have high price. However there seems to be  no relation in terms of product tier and price."
   ]
  },
  {
   "cell_type": "code",
   "execution_count": 16,
   "metadata": {},
   "outputs": [
    {
     "data": {
      "text/plain": [
       "Text(0, 0.5, 'Price')"
      ]
     },
     "execution_count": 16,
     "metadata": {},
     "output_type": "execute_result"
    },
    {
     "data": {
      "image/png": "[encoded data removed]",
      "text/plain": [
       "<Figure size 432x288 with 1 Axes>"
      ]
     },
     "metadata": {
      "needs_background": "light"
     },
     "output_type": "display_data"
    }
   ],
   "source": [
    "#Visualizing the search views and price\n",
    "plt.scatter(df.search_views,df.price,c=df.product_tier)\n",
    "plt.xlim(0,300000)\n",
    "plt.xlabel('Search views')\n",
    "plt.ylabel('Price')"
   ]
  },
  {
   "cell_type": "markdown",
   "metadata": {},
   "source": [
    "Premium product tier cars are majorly within 50000, however most of the cars are in the same price range."
   ]
  },
  {
   "cell_type": "code",
   "execution_count": 17,
   "metadata": {},
   "outputs": [
    {
     "data": {
      "text/plain": [
       "Text(0, 0.5, 'Price(log)')"
      ]
     },
     "execution_count": 17,
     "metadata": {},
     "output_type": "execute_result"
    },
    {
     "data": {
      "image/png": "[encoded data removed]",
      "text/plain": [
       "<Figure size 432x288 with 1 Axes>"
      ]
     },
     "metadata": {
      "needs_background": "light"
     },
     "output_type": "display_data"
    }
   ],
   "source": [
    "#Visualizing the search views and price(logged)\n",
    "plt.scatter(df.search_views,np.log(df.price),c=df.product_tier)\n",
    "plt.xlim(0,300000)\n",
    "plt.xlabel('Search views')\n",
    "plt.ylabel('Price(log)')"
   ]
  },
  {
   "cell_type": "markdown",
   "metadata": {},
   "source": [
    "From above plot we do not see any evidence of relation between price and product tier."
   ]
  },
  {
   "cell_type": "markdown",
   "metadata": {},
   "source": [
    "### 5. Stock days."
   ]
  },
  {
   "cell_type": "code",
   "execution_count": 18,
   "metadata": {},
   "outputs": [
    {
     "data": {
      "text/plain": [
       "Text(0, 0.5, 'Stock days')"
      ]
     },
     "execution_count": 18,
     "metadata": {},
     "output_type": "execute_result"
    },
    {
     "data": {
      "image/png": "[encoded data removed]",
      "text/plain": [
       "<Figure size 432x288 with 1 Axes>"
      ]
     },
     "metadata": {
      "needs_background": "light"
     },
     "output_type": "display_data"
    }
   ],
   "source": [
    "#Visualizing the stock days vs search views logged\n",
    "plt.scatter(np.log(df.search_views),df.stock_days,c=df.product_tier)\n",
    "#plt.xlim(0,300000)\n",
    "plt.xlabel('Search views(log)')\n",
    "plt.ylabel('Stock days')"
   ]
  },
  {
   "cell_type": "markdown",
   "metadata": {},
   "source": [
    "There seems to be not much relation between stock days and product tier."
   ]
  },
  {
   "cell_type": "markdown",
   "metadata": {},
   "source": [
    "### 6. First zip digit "
   ]
  },
  {
   "cell_type": "code",
   "execution_count": 19,
   "metadata": {},
   "outputs": [
    {
     "data": {
      "text/plain": [
       "<matplotlib.collections.PathCollection at 0x1b2ca022c18>"
      ]
     },
     "execution_count": 19,
     "metadata": {},
     "output_type": "execute_result"
    },
    {
     "data": {
      "image/png": "[encoded data removed]",
      "text/plain": [
       "<Figure size 432x288 with 1 Axes>"
      ]
     },
     "metadata": {
      "needs_background": "light"
     },
     "output_type": "display_data"
    }
   ],
   "source": [
    "plt.scatter(df.first_zip_digit,np.log(df.search_views),c=df.product_tier)"
   ]
  },
  {
   "cell_type": "code",
   "execution_count": 20,
   "metadata": {},
   "outputs": [
    {
     "data": {
      "text/plain": [
       "(array([ 7704.,  9711., 13342.,  6758.,     0., 12166.,  7255., 11006.,\n",
       "         6205.,  4174.]),\n",
       " array([1. , 1.8, 2.6, 3.4, 4.2, 5. , 5.8, 6.6, 7.4, 8.2, 9. ]),\n",
       " <a list of 10 Patch objects>)"
      ]
     },
     "execution_count": 20,
     "metadata": {},
     "output_type": "execute_result"
    },
    {
     "data": {
      "image/png": "[encoded data removed]",
      "text/plain": [
       "<Figure size 432x288 with 1 Axes>"
      ]
     },
     "metadata": {
      "needs_background": "light"
     },
     "output_type": "display_data"
    }
   ],
   "source": [
    "plt.hist(df.first_zip_digit,rwidth=0.25,align='mid')\n"
   ]
  },
  {
   "cell_type": "code",
   "execution_count": 21,
   "metadata": {},
   "outputs": [
    {
     "data": {
      "text/plain": [
       "(array([141., 728., 345., 107.,   0., 281., 107., 306., 259.,  50.]),\n",
       " array([1. , 1.8, 2.6, 3.4, 4.2, 5. , 5.8, 6.6, 7.4, 8.2, 9. ]),\n",
       " <a list of 10 Patch objects>)"
      ]
     },
     "execution_count": 21,
     "metadata": {},
     "output_type": "execute_result"
    },
    {
     "data": {
      "image/png": "[encoded data removed]",
      "text/plain": [
       "<Figure size 432x288 with 1 Axes>"
      ]
     },
     "metadata": {
      "needs_background": "light"
     },
     "output_type": "display_data"
    }
   ],
   "source": [
    "plt.hist(df.first_zip_digit[df.product_tier==2],rwidth=0.25,align='mid')\n"
   ]
  },
  {
   "cell_type": "markdown",
   "metadata": {},
   "source": [
    "From above histogram, it can be seen that the ratio of premium car to total car sale is high in city with first digit of zip code 3 and low in city with first digit of zip code as 7"
   ]
  },
  {
   "cell_type": "markdown",
   "metadata": {},
   "source": [
    "# Data Preprocessing"
   ]
  },
  {
   "cell_type": "markdown",
   "metadata": {},
   "source": [
    "Create a new dataframe which is preprocessed and in right format for ML models."
   ]
  },
  {
   "cell_type": "markdown",
   "metadata": {},
   "source": [
    "article_id does not have any meaningful information and hence can be removed."
   ]
  },
  {
   "cell_type": "code",
   "execution_count": 22,
   "metadata": {},
   "outputs": [],
   "source": [
    "df_pp = df.drop(['article_id'],axis=1)"
   ]
  },
  {
   "cell_type": "markdown",
   "metadata": {},
   "source": [
    "Create new attribute 'car_age' which is age of car when record is created."
   ]
  },
  {
   "cell_type": "code",
   "execution_count": 23,
   "metadata": {},
   "outputs": [],
   "source": [
    "df_pp.created_date = pd.to_datetime(df.created_date)\n",
    "df_pp.created_date = df_pp['created_date'].dt.year\n",
    "df_pp.loc[:,'car_age'] = df_pp.created_date -df_pp.first_registration_year\n",
    "df_pp.car_age  = np.where(df_pp.car_age < 1 , 1,df_pp.car_age)"
   ]
  },
  {
   "cell_type": "code",
   "execution_count": 24,
   "metadata": {},
   "outputs": [],
   "source": [
    "# Remove attributes which does not have correlation with product_tier\n",
    "df_pp = df_pp.drop(['make_name'],axis=1)\n",
    "df_pp = df_pp.drop(['first_zip_digit'],axis=1)\n",
    "#df_pp =pd.get_dummies(df_pp,columns=['first_zip_digit'])\n",
    "df_pp = df_pp.drop(['first_registration_year'],axis=1)\n",
    "df_pp = df_pp.drop(['created_date'],axis=1)\n",
    "df_pp = df_pp.drop(['deleted_date'],axis=1)"
   ]
  },
  {
   "cell_type": "code",
   "execution_count": 25,
   "metadata": {},
   "outputs": [],
   "source": [
    "df_pp.stock_days  = np.where(df_pp.stock_days < 0 , 0,df_pp.stock_days)"
   ]
  },
  {
   "cell_type": "code",
   "execution_count": 26,
   "metadata": {},
   "outputs": [],
   "source": [
    "df_pp = df_pp[~np.isnan(df_pp).any(axis=1)]"
   ]
  },
  {
   "cell_type": "code",
   "execution_count": 27,
   "metadata": {},
   "outputs": [
    {
     "data": {
      "text/html": [
       "<div>\n",
       "<style scoped>\n",
       "    .dataframe tbody tr th:only-of-type {\n",
       "        vertical-align: middle;\n",
       "    }\n",
       "\n",
       "    .dataframe tbody tr th {\n",
       "        vertical-align: top;\n",
       "    }\n",
       "\n",
       "    .dataframe thead th {\n",
       "        text-align: right;\n",
       "    }\n",
       "</style>\n",
       "<table border=\"1\" class=\"dataframe\">\n",
       "  <thead>\n",
       "    <tr style=\"text-align: right;\">\n",
       "      <th></th>\n",
       "      <th>product_tier</th>\n",
       "      <th>price</th>\n",
       "      <th>search_views</th>\n",
       "      <th>detail_views</th>\n",
       "      <th>stock_days</th>\n",
       "      <th>ctr</th>\n",
       "      <th>car_age</th>\n",
       "    </tr>\n",
       "  </thead>\n",
       "  <tbody>\n",
       "    <tr>\n",
       "      <th>0</th>\n",
       "      <td>0</td>\n",
       "      <td>16750</td>\n",
       "      <td>3091.0</td>\n",
       "      <td>123.0</td>\n",
       "      <td>30</td>\n",
       "      <td>0.039793</td>\n",
       "      <td>5</td>\n",
       "    </tr>\n",
       "    <tr>\n",
       "      <th>1</th>\n",
       "      <td>0</td>\n",
       "      <td>35950</td>\n",
       "      <td>3283.0</td>\n",
       "      <td>223.0</td>\n",
       "      <td>52</td>\n",
       "      <td>0.067926</td>\n",
       "      <td>3</td>\n",
       "    </tr>\n",
       "    <tr>\n",
       "      <th>2</th>\n",
       "      <td>0</td>\n",
       "      <td>11950</td>\n",
       "      <td>3247.0</td>\n",
       "      <td>265.0</td>\n",
       "      <td>51</td>\n",
       "      <td>0.081614</td>\n",
       "      <td>20</td>\n",
       "    </tr>\n",
       "    <tr>\n",
       "      <th>3</th>\n",
       "      <td>0</td>\n",
       "      <td>1750</td>\n",
       "      <td>1856.0</td>\n",
       "      <td>26.0</td>\n",
       "      <td>101</td>\n",
       "      <td>0.014009</td>\n",
       "      <td>15</td>\n",
       "    </tr>\n",
       "    <tr>\n",
       "      <th>4</th>\n",
       "      <td>0</td>\n",
       "      <td>26500</td>\n",
       "      <td>490.0</td>\n",
       "      <td>20.0</td>\n",
       "      <td>12</td>\n",
       "      <td>0.040816</td>\n",
       "      <td>4</td>\n",
       "    </tr>\n",
       "  </tbody>\n",
       "</table>\n",
       "</div>"
      ],
      "text/plain": [
       "   product_tier  price  search_views  detail_views  stock_days       ctr  \\\n",
       "0             0  16750        3091.0         123.0          30  0.039793   \n",
       "1             0  35950        3283.0         223.0          52  0.067926   \n",
       "2             0  11950        3247.0         265.0          51  0.081614   \n",
       "3             0   1750        1856.0          26.0         101  0.014009   \n",
       "4             0  26500         490.0          20.0          12  0.040816   \n",
       "\n",
       "   car_age  \n",
       "0        5  \n",
       "1        3  \n",
       "2       20  \n",
       "3       15  \n",
       "4        4  "
      ]
     },
     "execution_count": 27,
     "metadata": {},
     "output_type": "execute_result"
    }
   ],
   "source": [
    "df_pp.head()"
   ]
  },
  {
   "cell_type": "code",
   "execution_count": 28,
   "metadata": {},
   "outputs": [
    {
     "data": {
      "text/html": [
       "<div>\n",
       "<style scoped>\n",
       "    .dataframe tbody tr th:only-of-type {\n",
       "        vertical-align: middle;\n",
       "    }\n",
       "\n",
       "    .dataframe tbody tr th {\n",
       "        vertical-align: top;\n",
       "    }\n",
       "\n",
       "    .dataframe thead th {\n",
       "        text-align: right;\n",
       "    }\n",
       "</style>\n",
       "<table border=\"1\" class=\"dataframe\">\n",
       "  <thead>\n",
       "    <tr style=\"text-align: right;\">\n",
       "      <th></th>\n",
       "      <th>product_tier</th>\n",
       "      <th>price</th>\n",
       "      <th>search_views</th>\n",
       "      <th>detail_views</th>\n",
       "      <th>stock_days</th>\n",
       "      <th>ctr</th>\n",
       "      <th>car_age</th>\n",
       "    </tr>\n",
       "  </thead>\n",
       "  <tbody>\n",
       "    <tr>\n",
       "      <th>count</th>\n",
       "      <td>78297.000000</td>\n",
       "      <td>78297.000000</td>\n",
       "      <td>78297.00000</td>\n",
       "      <td>78297.000000</td>\n",
       "      <td>78297.000000</td>\n",
       "      <td>78297.000000</td>\n",
       "      <td>78297.000000</td>\n",
       "    </tr>\n",
       "    <tr>\n",
       "      <th>mean</th>\n",
       "      <td>0.066720</td>\n",
       "      <td>15069.670358</td>\n",
       "      <td>2297.91333</td>\n",
       "      <td>93.486583</td>\n",
       "      <td>35.996373</td>\n",
       "      <td>0.046892</td>\n",
       "      <td>7.000485</td>\n",
       "    </tr>\n",
       "    <tr>\n",
       "      <th>std</th>\n",
       "      <td>0.348761</td>\n",
       "      <td>16375.598837</td>\n",
       "      <td>6339.52668</td>\n",
       "      <td>228.042547</td>\n",
       "      <td>32.211601</td>\n",
       "      <td>0.038818</td>\n",
       "      <td>6.440443</td>\n",
       "    </tr>\n",
       "    <tr>\n",
       "      <th>min</th>\n",
       "      <td>0.000000</td>\n",
       "      <td>50.000000</td>\n",
       "      <td>1.00000</td>\n",
       "      <td>0.000000</td>\n",
       "      <td>0.000000</td>\n",
       "      <td>0.000000</td>\n",
       "      <td>1.000000</td>\n",
       "    </tr>\n",
       "    <tr>\n",
       "      <th>25%</th>\n",
       "      <td>0.000000</td>\n",
       "      <td>5750.000000</td>\n",
       "      <td>368.00000</td>\n",
       "      <td>13.000000</td>\n",
       "      <td>10.000000</td>\n",
       "      <td>0.024263</td>\n",
       "      <td>3.000000</td>\n",
       "    </tr>\n",
       "    <tr>\n",
       "      <th>50%</th>\n",
       "      <td>0.000000</td>\n",
       "      <td>10909.000000</td>\n",
       "      <td>920.00000</td>\n",
       "      <td>36.000000</td>\n",
       "      <td>25.000000</td>\n",
       "      <td>0.038239</td>\n",
       "      <td>5.000000</td>\n",
       "    </tr>\n",
       "    <tr>\n",
       "      <th>75%</th>\n",
       "      <td>0.000000</td>\n",
       "      <td>18890.000000</td>\n",
       "      <td>2234.00000</td>\n",
       "      <td>94.000000</td>\n",
       "      <td>55.000000</td>\n",
       "      <td>0.058687</td>\n",
       "      <td>10.000000</td>\n",
       "    </tr>\n",
       "    <tr>\n",
       "      <th>max</th>\n",
       "      <td>2.000000</td>\n",
       "      <td>249888.000000</td>\n",
       "      <td>608754.00000</td>\n",
       "      <td>13926.000000</td>\n",
       "      <td>127.000000</td>\n",
       "      <td>1.833333</td>\n",
       "      <td>94.000000</td>\n",
       "    </tr>\n",
       "  </tbody>\n",
       "</table>\n",
       "</div>"
      ],
      "text/plain": [
       "       product_tier          price  search_views  detail_views    stock_days  \\\n",
       "count  78297.000000   78297.000000   78297.00000  78297.000000  78297.000000   \n",
       "mean       0.066720   15069.670358    2297.91333     93.486583     35.996373   \n",
       "std        0.348761   16375.598837    6339.52668    228.042547     32.211601   \n",
       "min        0.000000      50.000000       1.00000      0.000000      0.000000   \n",
       "25%        0.000000    5750.000000     368.00000     13.000000     10.000000   \n",
       "50%        0.000000   10909.000000     920.00000     36.000000     25.000000   \n",
       "75%        0.000000   18890.000000    2234.00000     94.000000     55.000000   \n",
       "max        2.000000  249888.000000  608754.00000  13926.000000    127.000000   \n",
       "\n",
       "                ctr       car_age  \n",
       "count  78297.000000  78297.000000  \n",
       "mean       0.046892      7.000485  \n",
       "std        0.038818      6.440443  \n",
       "min        0.000000      1.000000  \n",
       "25%        0.024263      3.000000  \n",
       "50%        0.038239      5.000000  \n",
       "75%        0.058687     10.000000  \n",
       "max        1.833333     94.000000  "
      ]
     },
     "execution_count": 28,
     "metadata": {},
     "output_type": "execute_result"
    }
   ],
   "source": [
    "df_pp.describe()"
   ]
  },
  {
   "cell_type": "code",
   "execution_count": 29,
   "metadata": {},
   "outputs": [
    {
     "data": {
      "text/html": [
       "<div>\n",
       "<style scoped>\n",
       "    .dataframe tbody tr th:only-of-type {\n",
       "        vertical-align: middle;\n",
       "    }\n",
       "\n",
       "    .dataframe tbody tr th {\n",
       "        vertical-align: top;\n",
       "    }\n",
       "\n",
       "    .dataframe thead th {\n",
       "        text-align: right;\n",
       "    }\n",
       "</style>\n",
       "<table border=\"1\" class=\"dataframe\">\n",
       "  <thead>\n",
       "    <tr style=\"text-align: right;\">\n",
       "      <th></th>\n",
       "      <th>product_tier</th>\n",
       "      <th>price</th>\n",
       "      <th>search_views</th>\n",
       "      <th>detail_views</th>\n",
       "      <th>stock_days</th>\n",
       "      <th>ctr</th>\n",
       "      <th>car_age</th>\n",
       "    </tr>\n",
       "  </thead>\n",
       "  <tbody>\n",
       "    <tr>\n",
       "      <th>product_tier</th>\n",
       "      <td>1.000000</td>\n",
       "      <td>-0.007658</td>\n",
       "      <td>0.315866</td>\n",
       "      <td>0.244744</td>\n",
       "      <td>-0.011465</td>\n",
       "      <td>-0.051979</td>\n",
       "      <td>0.022855</td>\n",
       "    </tr>\n",
       "    <tr>\n",
       "      <th>price</th>\n",
       "      <td>-0.007658</td>\n",
       "      <td>1.000000</td>\n",
       "      <td>0.002961</td>\n",
       "      <td>0.028855</td>\n",
       "      <td>0.085730</td>\n",
       "      <td>0.003768</td>\n",
       "      <td>-0.299590</td>\n",
       "    </tr>\n",
       "    <tr>\n",
       "      <th>search_views</th>\n",
       "      <td>0.315866</td>\n",
       "      <td>0.002961</td>\n",
       "      <td>1.000000</td>\n",
       "      <td>0.835632</td>\n",
       "      <td>0.271679</td>\n",
       "      <td>-0.057980</td>\n",
       "      <td>0.110189</td>\n",
       "    </tr>\n",
       "    <tr>\n",
       "      <th>detail_views</th>\n",
       "      <td>0.244744</td>\n",
       "      <td>0.028855</td>\n",
       "      <td>0.835632</td>\n",
       "      <td>1.000000</td>\n",
       "      <td>0.281627</td>\n",
       "      <td>0.102228</td>\n",
       "      <td>0.122142</td>\n",
       "    </tr>\n",
       "    <tr>\n",
       "      <th>stock_days</th>\n",
       "      <td>-0.011465</td>\n",
       "      <td>0.085730</td>\n",
       "      <td>0.271679</td>\n",
       "      <td>0.281627</td>\n",
       "      <td>1.000000</td>\n",
       "      <td>-0.147767</td>\n",
       "      <td>-0.079362</td>\n",
       "    </tr>\n",
       "    <tr>\n",
       "      <th>ctr</th>\n",
       "      <td>-0.051979</td>\n",
       "      <td>0.003768</td>\n",
       "      <td>-0.057980</td>\n",
       "      <td>0.102228</td>\n",
       "      <td>-0.147767</td>\n",
       "      <td>1.000000</td>\n",
       "      <td>0.050117</td>\n",
       "    </tr>\n",
       "    <tr>\n",
       "      <th>car_age</th>\n",
       "      <td>0.022855</td>\n",
       "      <td>-0.299590</td>\n",
       "      <td>0.110189</td>\n",
       "      <td>0.122142</td>\n",
       "      <td>-0.079362</td>\n",
       "      <td>0.050117</td>\n",
       "      <td>1.000000</td>\n",
       "    </tr>\n",
       "  </tbody>\n",
       "</table>\n",
       "</div>"
      ],
      "text/plain": [
       "              product_tier     price  search_views  detail_views  stock_days  \\\n",
       "product_tier      1.000000 -0.007658      0.315866      0.244744   -0.011465   \n",
       "price            -0.007658  1.000000      0.002961      0.028855    0.085730   \n",
       "search_views      0.315866  0.002961      1.000000      0.835632    0.271679   \n",
       "detail_views      0.244744  0.028855      0.835632      1.000000    0.281627   \n",
       "stock_days       -0.011465  0.085730      0.271679      0.281627    1.000000   \n",
       "ctr              -0.051979  0.003768     -0.057980      0.102228   -0.147767   \n",
       "car_age           0.022855 -0.299590      0.110189      0.122142   -0.079362   \n",
       "\n",
       "                   ctr   car_age  \n",
       "product_tier -0.051979  0.022855  \n",
       "price         0.003768 -0.299590  \n",
       "search_views -0.057980  0.110189  \n",
       "detail_views  0.102228  0.122142  \n",
       "stock_days   -0.147767 -0.079362  \n",
       "ctr           1.000000  0.050117  \n",
       "car_age       0.050117  1.000000  "
      ]
     },
     "execution_count": 29,
     "metadata": {},
     "output_type": "execute_result"
    }
   ],
   "source": [
    "df_pp.corr()"
   ]
  },
  {
   "cell_type": "code",
   "execution_count": 30,
   "metadata": {},
   "outputs": [],
   "source": [
    "#df_pp = df_pp.drop(['price'],axis=1)\n",
    "#df_pp = df_pp.drop(['stock_days'],axis=1)\n",
    "#df_pp = df_pp.drop(['ctr'],axis=1)"
   ]
  },
  {
   "cell_type": "markdown",
   "metadata": {},
   "source": [
    "# ML models"
   ]
  },
  {
   "cell_type": "markdown",
   "metadata": {},
   "source": [
    "In this section, we look at various ML classification algorithm and different methodology."
   ]
  },
  {
   "cell_type": "code",
   "execution_count": 31,
   "metadata": {},
   "outputs": [],
   "source": [
    "from sklearn.model_selection import train_test_split\n",
    "from sklearn import preprocessing"
   ]
  },
  {
   "cell_type": "code",
   "execution_count": 32,
   "metadata": {},
   "outputs": [],
   "source": [
    "from sklearn.naive_bayes import GaussianNB\n",
    "from sklearn.neighbors import KNeighborsClassifier\n",
    "from sklearn.tree import DecisionTreeClassifier\n",
    "from sklearn.svm import SVC\n",
    "from sklearn.neural_network import MLPClassifier\n",
    "from sklearn.metrics import accuracy_score,f1_score\n",
    "from sklearn.metrics import confusion_matrix"
   ]
  },
  {
   "cell_type": "code",
   "execution_count": 33,
   "metadata": {},
   "outputs": [],
   "source": [
    "X,y = df_pp.drop(['product_tier'],axis=1),df_pp.product_tier\n"
   ]
  },
  {
   "cell_type": "code",
   "execution_count": 34,
   "metadata": {},
   "outputs": [],
   "source": [
    "X = pd.DataFrame(preprocessing.MinMaxScaler().fit_transform(X.select_dtypes(np.number)))"
   ]
  },
  {
   "cell_type": "code",
   "execution_count": 35,
   "metadata": {},
   "outputs": [],
   "source": [
    "X_train,X_test,y_train,y_test = train_test_split(X,y,test_size=0.3,random_state=200920)"
   ]
  },
  {
   "cell_type": "code",
   "execution_count": 36,
   "metadata": {},
   "outputs": [],
   "source": [
    "def evaluate_classifier(c_name,c,X_train,y_train,X_test,y_test,view_cm = False):\n",
    "    y_pred = c.fit(X_train,y_train).predict(X_test)\n",
    "    acc = accuracy_score(y_test,y_pred)\n",
    "    f1  = f1_score(y_test,y_pred,average='macro')\n",
    "    print(f'{c_name}: ACC={acc:.4f}, F1={f1:.4f}')\n",
    "    \n",
    "    if(view_cm):\n",
    "        cm = confusion_matrix(y_test, y_pred) \n",
    "\n",
    "        labels = ['Basic', 'Plus','Premium']\n",
    "        fig = plt.figure()\n",
    "        ax = fig.add_subplot(111)\n",
    "        for ij,v in np.ndenumerate(cm):\n",
    "            i,j = ij\n",
    "            plt.text(j,i,str(v),color=\"white\",ha=\"center\",va=\"center\")\n",
    "        cax = ax.matshow(cm)\n",
    "        plt.title('Confusion matrix of the classifier {}'.format(c_name))\n",
    "        fig.colorbar(cax)\n",
    "        ax.set_xticklabels([''] + labels)\n",
    "        ax.set_yticklabels([''] + labels)\n",
    "        plt.xlabel('Predicted')\n",
    "        plt.ylabel('True')\n",
    "        plt.show()\n",
    " \n",
    "  \n"
   ]
  },
  {
   "cell_type": "code",
   "execution_count": 37,
   "metadata": {},
   "outputs": [],
   "source": [
    "estimators = {\n",
    "    'k-NN-1': KNeighborsClassifier(n_neighbors=1),\n",
    "    'k-NN-3': KNeighborsClassifier(n_neighbors=3),\n",
    "    'k-NN-5': KNeighborsClassifier(n_neighbors=5),\n",
    "    'k-NN-9': KNeighborsClassifier(n_neighbors=9),\n",
    "    'DT': DecisionTreeClassifier(),\n",
    "    'SVM': SVC(),\n",
    "    'NB': GaussianNB(),\n",
    "    'NN': MLPClassifier()\n",
    "}\n"
   ]
  },
  {
   "cell_type": "code",
   "execution_count": 38,
   "metadata": {},
   "outputs": [
    {
     "name": "stdout",
     "output_type": "stream",
     "text": [
      "k-NN-1: ACC=0.9551, F1=0.4546\n",
      "k-NN-3: ACC=0.9662, F1=0.4512\n",
      "k-NN-5: ACC=0.9669, F1=0.4408\n",
      "k-NN-9: ACC=0.9666, F1=0.4268\n",
      "DT: ACC=0.9516, F1=0.4811\n",
      "SVM: ACC=0.9646, F1=0.3815\n",
      "NB: ACC=0.9573, F1=0.4389\n",
      "NN: ACC=0.9708, F1=0.5094\n"
     ]
    }
   ],
   "source": [
    "for c_name,c in estimators.items():\n",
    "    evaluate_classifier(c_name,c,X_train,y_train,X_test,y_test)"
   ]
  },
  {
   "cell_type": "code",
   "execution_count": 39,
   "metadata": {},
   "outputs": [
    {
     "name": "stdout",
     "output_type": "stream",
     "text": [
      "NN: ACC=0.9713, F1=0.5146\n"
     ]
    },
    {
     "data": {
      "image/png": "[encoded data removed]",
      "text/plain": [
       "<Figure size 432x288 with 2 Axes>"
      ]
     },
     "metadata": {
      "needs_background": "light"
     },
     "output_type": "display_data"
    }
   ],
   "source": [
    "#Confusion matrix of multi layer perceptron classifier.\n",
    "evaluate_classifier('NN',MLPClassifier(),X_train,y_train,X_test,y_test,view_cm=True)"
   ]
  },
  {
   "cell_type": "markdown",
   "metadata": {},
   "source": [
    "We see that performance of the model is good for class 'Basic' and average for 'Premium'. As expected, the 'Plus' product tier has the worst performance."
   ]
  },
  {
   "cell_type": "markdown",
   "metadata": {},
   "source": [
    "# Oversampling"
   ]
  },
  {
   "cell_type": "markdown",
   "metadata": {},
   "source": [
    "We saw that the classes are imblalanced. We try oversampling the minority classes to see if it improves the performance. SMOTE and RandomOverSampler are used. As RandomOverSampler provided better performance, the same is shown."
   ]
  },
  {
   "cell_type": "code",
   "execution_count": 40,
   "metadata": {},
   "outputs": [
    {
     "name": "stderr",
     "output_type": "stream",
     "text": [
      "C:\\Users\\surao\\AppData\\Local\\Continuum\\anaconda3\\envs\\sudu_env\\lib\\site-packages\\imblearn\\utils\\_validation.py:638: FutureWarning: Pass sampling_strategy=not majority as keyword args. From version 0.9 passing these as positional arguments will result in an error\n",
      "  FutureWarning)\n"
     ]
    }
   ],
   "source": [
    "from imblearn.over_sampling import SMOTE\n",
    "from imblearn.over_sampling import RandomOverSampler\n",
    "\n",
    "#smote = SMOTE('not majority')\n",
    "#X_sm,y_sm = smote.fit_sample(X_train,y_train)\n",
    "\n",
    "ros = RandomOverSampler('not majority')\n",
    "X_sm,y_sm = ros.fit_sample(X_train,y_train)"
   ]
  },
  {
   "cell_type": "code",
   "execution_count": 41,
   "metadata": {},
   "outputs": [
    {
     "data": {
      "text/plain": [
       "(array([52789.,     0.,     0.,     0.,     0.,   404.,     0.,     0.,\n",
       "            0.,  1614.]),\n",
       " array([0. , 0.2, 0.4, 0.6, 0.8, 1. , 1.2, 1.4, 1.6, 1.8, 2. ]),\n",
       " <a list of 10 Patch objects>)"
      ]
     },
     "execution_count": 41,
     "metadata": {},
     "output_type": "execute_result"
    },
    {
     "data": {
      "image/png": "[encoded data removed]",
      "text/plain": [
       "<Figure size 432x288 with 1 Axes>"
      ]
     },
     "metadata": {
      "needs_background": "light"
     },
     "output_type": "display_data"
    }
   ],
   "source": [
    "plt.hist(y_train)"
   ]
  },
  {
   "cell_type": "code",
   "execution_count": 42,
   "metadata": {},
   "outputs": [
    {
     "data": {
      "text/plain": [
       "(array([52789.,     0.,     0.,     0.,     0., 52789.,     0.,     0.,\n",
       "            0., 52789.]),\n",
       " array([0. , 0.2, 0.4, 0.6, 0.8, 1. , 1.2, 1.4, 1.6, 1.8, 2. ]),\n",
       " <a list of 10 Patch objects>)"
      ]
     },
     "execution_count": 42,
     "metadata": {},
     "output_type": "execute_result"
    },
    {
     "data": {
      "image/png": "[encoded data removed]",
      "text/plain": [
       "<Figure size 432x288 with 1 Axes>"
      ]
     },
     "metadata": {
      "needs_background": "light"
     },
     "output_type": "display_data"
    }
   ],
   "source": [
    "plt.hist(y_sm)"
   ]
  },
  {
   "cell_type": "code",
   "execution_count": 43,
   "metadata": {},
   "outputs": [
    {
     "name": "stdout",
     "output_type": "stream",
     "text": [
      "k-NN-1: ACC=0.9551, F1=0.4546\n",
      "k-NN-3: ACC=0.9430, F1=0.4599\n",
      "k-NN-5: ACC=0.9293, F1=0.4549\n",
      "k-NN-9: ACC=0.9027, F1=0.4351\n",
      "DT: ACC=0.9544, F1=0.4831\n",
      "SVM: ACC=0.8715, F1=0.5118\n",
      "NB: ACC=0.8802, F1=0.4253\n",
      "NN: ACC=0.8242, F1=0.4678\n"
     ]
    },
    {
     "name": "stderr",
     "output_type": "stream",
     "text": [
      "C:\\Users\\surao\\AppData\\Local\\Continuum\\anaconda3\\envs\\sudu_env\\lib\\site-packages\\sklearn\\neural_network\\_multilayer_perceptron.py:585: ConvergenceWarning: Stochastic Optimizer: Maximum iterations (200) reached and the optimization hasn't converged yet.\n",
      "  % self.max_iter, ConvergenceWarning)\n"
     ]
    }
   ],
   "source": [
    "for c_name,c in estimators.items():\n",
    "    evaluate_classifier(c_name,c,X_sm,y_sm,X_test,y_test)"
   ]
  },
  {
   "cell_type": "markdown",
   "metadata": {},
   "source": [
    "Oversampling does not seem to have improved the performance."
   ]
  },
  {
   "cell_type": "markdown",
   "metadata": {},
   "source": [
    "# Bagging"
   ]
  },
  {
   "cell_type": "markdown",
   "metadata": {},
   "source": [
    "Ensemble techniques are used to check if it improves the model performance."
   ]
  },
  {
   "cell_type": "code",
   "execution_count": 44,
   "metadata": {},
   "outputs": [
    {
     "name": "stdout",
     "output_type": "stream",
     "text": [
      "k-NN-1: ACC=0.9551, F1=0.4546\n",
      "k-NN-3: ACC=0.9662, F1=0.4512\n",
      "k-NN-5: ACC=0.9669, F1=0.4408\n",
      "k-NN-9: ACC=0.9666, F1=0.4268\n",
      "DT: ACC=0.9505, F1=0.4766\n",
      "SVM: ACC=0.9646, F1=0.3815\n",
      "NB: ACC=0.9573, F1=0.4389\n",
      "NN: ACC=0.9710, F1=0.5111\n",
      "k-NN-1 (B): ACC=0.9573, F1=0.4462\n",
      "k-NN-3 (B): ACC=0.9658, F1=0.4521\n",
      "k-NN-5 (B): ACC=0.9662, F1=0.4350\n",
      "k-NN-9 (B): ACC=0.9665, F1=0.4241\n",
      "DT (B): ACC=0.9691, F1=0.5016\n",
      "SVM (B): ACC=0.9645, F1=0.3783\n",
      "NB (B): ACC=0.9567, F1=0.4336\n"
     ]
    },
    {
     "name": "stderr",
     "output_type": "stream",
     "text": [
      "C:\\Users\\surao\\AppData\\Local\\Continuum\\anaconda3\\envs\\sudu_env\\lib\\site-packages\\sklearn\\neural_network\\_multilayer_perceptron.py:585: ConvergenceWarning: Stochastic Optimizer: Maximum iterations (200) reached and the optimization hasn't converged yet.\n",
      "  % self.max_iter, ConvergenceWarning)\n"
     ]
    },
    {
     "name": "stdout",
     "output_type": "stream",
     "text": [
      "NN (B): ACC=0.9708, F1=0.5105\n",
      "RF: ACC=0.9710, F1=0.5123\n"
     ]
    }
   ],
   "source": [
    "from sklearn.ensemble import BaggingClassifier\n",
    "from sklearn.ensemble import RandomForestClassifier\n",
    "\n",
    "bagging_estimators = {f'{c_name} (B)': BaggingClassifier(c) for c_name, c in estimators.items()}\n",
    "estimators.update(bagging_estimators)\n",
    "estimators['RF'] = RandomForestClassifier()\n",
    "\n",
    "for c_name, c in estimators.items():\n",
    "    evaluate_classifier(c_name, c, X_train, y_train, X_test, y_test)\n"
   ]
  },
  {
   "cell_type": "markdown",
   "metadata": {},
   "source": [
    "Random forest perfomance is good, but the F1 score has deteriorated."
   ]
  },
  {
   "cell_type": "markdown",
   "metadata": {},
   "source": [
    "# Boosting"
   ]
  },
  {
   "cell_type": "markdown",
   "metadata": {},
   "source": [
    "Various Boosting methods are evaluated."
   ]
  },
  {
   "cell_type": "code",
   "execution_count": 45,
   "metadata": {},
   "outputs": [
    {
     "name": "stdout",
     "output_type": "stream",
     "text": [
      "k-NN-1: ACC=0.9551, F1=0.4546\n",
      "k-NN-3: ACC=0.9662, F1=0.4512\n",
      "k-NN-5: ACC=0.9669, F1=0.4408\n",
      "k-NN-9: ACC=0.9666, F1=0.4268\n",
      "DT: ACC=0.9512, F1=0.4788\n",
      "SVM: ACC=0.9646, F1=0.3815\n",
      "NB: ACC=0.9573, F1=0.4389\n",
      "NN: ACC=0.9711, F1=0.5126\n",
      "k-NN-1 (B): ACC=0.9580, F1=0.4524\n",
      "k-NN-3 (B): ACC=0.9654, F1=0.4440\n",
      "k-NN-5 (B): ACC=0.9672, F1=0.4452\n",
      "k-NN-9 (B): ACC=0.9665, F1=0.4246\n",
      "DT (B): ACC=0.9697, F1=0.5086\n",
      "SVM (B): ACC=0.9646, F1=0.3800\n",
      "NB (B): ACC=0.9581, F1=0.4342\n",
      "NN (B): ACC=0.9709, F1=0.5099\n",
      "RF: ACC=0.9708, F1=0.5117\n",
      "AdaBoost: ACC=0.9693, F1=0.4904\n",
      "XGBoost: ACC=0.9718, F1=0.5220\n"
     ]
    }
   ],
   "source": [
    "from sklearn.ensemble import AdaBoostClassifier\n",
    "from xgboost import XGBClassifier\n",
    "\n",
    "estimators['AdaBoost'] = AdaBoostClassifier()\n",
    "estimators['XGBoost'] = XGBClassifier()\n",
    "\n",
    "for c_name, c in estimators.items():\n",
    "    evaluate_classifier(c_name, c, X_train, y_train, X_test, y_test)\n"
   ]
  },
  {
   "cell_type": "markdown",
   "metadata": {},
   "source": [
    "XGBoost perfomance is good. A closer look at the confusion matrix :"
   ]
  },
  {
   "cell_type": "code",
   "execution_count": 46,
   "metadata": {},
   "outputs": [
    {
     "name": "stdout",
     "output_type": "stream",
     "text": [
      "XGBoost: ACC=0.9718, F1=0.5220\n"
     ]
    },
    {
     "data": {
      "image/png": "[encoded data removed]",
      "text/plain": [
       "<Figure size 432x288 with 2 Axes>"
      ]
     },
     "metadata": {
      "needs_background": "light"
     },
     "output_type": "display_data"
    }
   ],
   "source": [
    "#Confusion matrix of multi layer perceptron classifier.\n",
    "evaluate_classifier('XGBoost',XGBClassifier(),X_train,y_train,X_test,y_test,view_cm=True)"
   ]
  },
  {
   "cell_type": "markdown",
   "metadata": {},
   "source": [
    "# Stacking"
   ]
  },
  {
   "cell_type": "markdown",
   "metadata": {},
   "source": [
    "We try stacking of various algorithm to see if it improves the performance."
   ]
  },
  {
   "cell_type": "code",
   "execution_count": 47,
   "metadata": {},
   "outputs": [
    {
     "name": "stderr",
     "output_type": "stream",
     "text": [
      "[MLENS] backend: threading\n"
     ]
    },
    {
     "name": "stdout",
     "output_type": "stream",
     "text": [
      "k-NN-3: ACC=0.9662, F1=0.4512\n",
      "DT: ACC=0.9516, F1=0.4798\n",
      "NB: ACC=0.9573, F1=0.4389\n",
      "NN: ACC=0.9709, F1=0.5120\n"
     ]
    },
    {
     "name": "stderr",
     "output_type": "stream",
     "text": [
      "C:\\Users\\surao\\AppData\\Local\\Continuum\\anaconda3\\envs\\sudu_env\\lib\\site-packages\\sklearn\\neural_network\\_multilayer_perceptron.py:585: ConvergenceWarning: Stochastic Optimizer: Maximum iterations (200) reached and the optimization hasn't converged yet.\n",
      "  % self.max_iter, ConvergenceWarning)\n"
     ]
    },
    {
     "name": "stdout",
     "output_type": "stream",
     "text": [
      "Stacking: ACC=0.9711, F1=0.5183\n"
     ]
    }
   ],
   "source": [
    "from mlens.ensemble import SuperLearner\n",
    "\n",
    "best_estimators = {\n",
    "#    'k-NN-1': KNeighborsClassifier(n_neighbors=1),\n",
    "    'k-NN-3': KNeighborsClassifier(n_neighbors=3),\n",
    "#    'k-NN-5': KNeighborsClassifier(n_neighbors=5),\n",
    "    'DT': DecisionTreeClassifier(),\n",
    "#    'SVM': SVC(),\n",
    "    'NB': GaussianNB(),\n",
    "    'NN': MLPClassifier()\n",
    "}\n",
    "\n",
    "\n",
    "\n",
    "#encoder = LabelEncoder()\n",
    "#y_train_encoded = encoder.fit_transform(y_train)\n",
    "#y_test_encoded = encoder.transform(y_test)\n",
    "\n",
    "ensemble = SuperLearner()\n",
    "ensemble.add(list(best_estimators.values()))\n",
    "ensemble.add_meta(DecisionTreeClassifier())\n",
    "best_estimators['Stacking'] = ensemble\n",
    "\n",
    "for c_name, c in best_estimators.items():\n",
    "    evaluate_classifier(c_name, c, X_train, y_train, X_test, y_test)\n",
    "\n"
   ]
  },
  {
   "cell_type": "markdown",
   "metadata": {},
   "source": [
    "Stacking does not seem to have helped improve the performance."
   ]
  },
  {
   "cell_type": "markdown",
   "metadata": {},
   "source": [
    "The best performance is from XGBoost!"
   ]
  },
  {
   "cell_type": "markdown",
   "metadata": {},
   "source": [
    "# Regression for Detail views"
   ]
  },
  {
   "cell_type": "markdown",
   "metadata": {},
   "source": [
    "Determination of detail views is a regression task. We look at various regression model and its performance."
   ]
  },
  {
   "cell_type": "code",
   "execution_count": 48,
   "metadata": {},
   "outputs": [],
   "source": [
    "from sklearn.model_selection import cross_validate\n",
    "from sklearn.decomposition import PCA\n",
    "from sklearn.model_selection import cross_val_score\n",
    "    \n",
    "def evaluate_regression(X: pd.DataFrame, y: pd.Series, estimators: dict):\n",
    "    # --- SOLUTION ---\n",
    "    for e_name, e in estimators.items():\n",
    "        scores = cross_validate(e, X, y=y, scoring={'MSE': 'neg_mean_squared_error'}, cv=10)\n",
    "        rmse = np.mean(np.sqrt(np.abs(scores['test_MSE'])))\n",
    "        print('{}: RMSE={:.2f}'.format(e_name, rmse))\n"
   ]
  },
  {
   "cell_type": "code",
   "execution_count": 49,
   "metadata": {},
   "outputs": [],
   "source": [
    "from sklearn.svm import SVR\n",
    "from sklearn import linear_model\n",
    "from sklearn.neighbors import KNeighborsRegressor\n",
    "from sklearn.tree import DecisionTreeRegressor\n",
    "\n",
    "\n",
    "def evaluate_multiple(X: pd.DataFrame, y: pd.Series):\n",
    "    regressors = {\n",
    "        'Linear Regression': linear_model.LinearRegression(),\n",
    "        'Ridge': linear_model.Ridge(),\n",
    "        'Lasso': linear_model.Lasso(max_iter=5000),\n",
    "        'ElasticNet': linear_model.ElasticNet(),\n",
    "        #'SVR': SVR(gamma='scale'),\n",
    "        'k-NN': KNeighborsRegressor(),\n",
    "        'Decision Tree': DecisionTreeRegressor(max_depth=20)\n",
    "    }\n",
    "    evaluate_regression(X, y, regressors)\n"
   ]
  },
  {
   "cell_type": "markdown",
   "metadata": {},
   "source": [
    "Create a new data frame for regression with preprocessing done similar to previous section."
   ]
  },
  {
   "cell_type": "code",
   "execution_count": 50,
   "metadata": {},
   "outputs": [],
   "source": [
    "df_reg = df.drop(['article_id'],axis=1)"
   ]
  },
  {
   "cell_type": "code",
   "execution_count": 51,
   "metadata": {},
   "outputs": [],
   "source": [
    "df_reg.created_date = pd.to_datetime(df_reg.created_date)\n",
    "df_reg.created_date = df_reg['created_date'].dt.year\n",
    "df_reg.loc[:,'car_age'] = df_reg.created_date -df_reg.first_registration_year\n",
    "df_reg.car_age  = np.where(df_reg.car_age < 1 , 1,df_reg.car_age)"
   ]
  },
  {
   "cell_type": "code",
   "execution_count": 52,
   "metadata": {},
   "outputs": [],
   "source": [
    "# Remove attributes which does not have correlation with detail views\n",
    "#Preprocess attributes to categorical values or dummy variables.\n",
    "#df_reg = df_pp.drop(['make_name'],axis=1)\n",
    "df_reg['make_name'] = df_reg.make_name.astype('category').cat.codes\n",
    "#df_reg = df_pp.drop(['first_zip_digit'],axis=1)\n",
    "df_reg =pd.get_dummies(df_reg,columns=['first_zip_digit'])\n",
    "df_reg = df_reg.drop(['first_registration_year'],axis=1)\n",
    "df_reg = df_reg.drop(['created_date'],axis=1)\n",
    "df_reg = df_reg.drop(['deleted_date'],axis=1)"
   ]
  },
  {
   "cell_type": "code",
   "execution_count": 53,
   "metadata": {},
   "outputs": [],
   "source": [
    "df_reg.stock_days  = np.where(df_reg.stock_days < 0 , 0,df_reg.stock_days)"
   ]
  },
  {
   "cell_type": "code",
   "execution_count": 54,
   "metadata": {},
   "outputs": [],
   "source": [
    "df_reg = df_reg[~np.isnan(df_reg).any(axis=1)]"
   ]
  },
  {
   "cell_type": "markdown",
   "metadata": {},
   "source": [
    "As the field 'ctr' is ratio of detail views to search views, to prevent biasness, 'ctr' field is removed."
   ]
  },
  {
   "cell_type": "code",
   "execution_count": 55,
   "metadata": {},
   "outputs": [],
   "source": [
    "df_reg = df_reg.drop(['ctr'],axis=1)"
   ]
  },
  {
   "cell_type": "code",
   "execution_count": 56,
   "metadata": {},
   "outputs": [
    {
     "data": {
      "text/html": [
       "<div>\n",
       "<style scoped>\n",
       "    .dataframe tbody tr th:only-of-type {\n",
       "        vertical-align: middle;\n",
       "    }\n",
       "\n",
       "    .dataframe tbody tr th {\n",
       "        vertical-align: top;\n",
       "    }\n",
       "\n",
       "    .dataframe thead th {\n",
       "        text-align: right;\n",
       "    }\n",
       "</style>\n",
       "<table border=\"1\" class=\"dataframe\">\n",
       "  <thead>\n",
       "    <tr style=\"text-align: right;\">\n",
       "      <th></th>\n",
       "      <th>product_tier</th>\n",
       "      <th>make_name</th>\n",
       "      <th>price</th>\n",
       "      <th>search_views</th>\n",
       "      <th>detail_views</th>\n",
       "      <th>stock_days</th>\n",
       "      <th>car_age</th>\n",
       "      <th>first_zip_digit_1</th>\n",
       "      <th>first_zip_digit_2</th>\n",
       "      <th>first_zip_digit_3</th>\n",
       "      <th>first_zip_digit_4</th>\n",
       "      <th>first_zip_digit_5</th>\n",
       "      <th>first_zip_digit_6</th>\n",
       "      <th>first_zip_digit_7</th>\n",
       "      <th>first_zip_digit_8</th>\n",
       "      <th>first_zip_digit_9</th>\n",
       "    </tr>\n",
       "  </thead>\n",
       "  <tbody>\n",
       "    <tr>\n",
       "      <th>0</th>\n",
       "      <td>0</td>\n",
       "      <td>62</td>\n",
       "      <td>16750</td>\n",
       "      <td>3091.0</td>\n",
       "      <td>123.0</td>\n",
       "      <td>30</td>\n",
       "      <td>5</td>\n",
       "      <td>0</td>\n",
       "      <td>0</td>\n",
       "      <td>0</td>\n",
       "      <td>0</td>\n",
       "      <td>1</td>\n",
       "      <td>0</td>\n",
       "      <td>0</td>\n",
       "      <td>0</td>\n",
       "      <td>0</td>\n",
       "    </tr>\n",
       "    <tr>\n",
       "      <th>1</th>\n",
       "      <td>0</td>\n",
       "      <td>60</td>\n",
       "      <td>35950</td>\n",
       "      <td>3283.0</td>\n",
       "      <td>223.0</td>\n",
       "      <td>52</td>\n",
       "      <td>3</td>\n",
       "      <td>0</td>\n",
       "      <td>0</td>\n",
       "      <td>0</td>\n",
       "      <td>1</td>\n",
       "      <td>0</td>\n",
       "      <td>0</td>\n",
       "      <td>0</td>\n",
       "      <td>0</td>\n",
       "      <td>0</td>\n",
       "    </tr>\n",
       "    <tr>\n",
       "      <th>2</th>\n",
       "      <td>0</td>\n",
       "      <td>60</td>\n",
       "      <td>11950</td>\n",
       "      <td>3247.0</td>\n",
       "      <td>265.0</td>\n",
       "      <td>51</td>\n",
       "      <td>20</td>\n",
       "      <td>0</td>\n",
       "      <td>0</td>\n",
       "      <td>1</td>\n",
       "      <td>0</td>\n",
       "      <td>0</td>\n",
       "      <td>0</td>\n",
       "      <td>0</td>\n",
       "      <td>0</td>\n",
       "      <td>0</td>\n",
       "    </tr>\n",
       "    <tr>\n",
       "      <th>3</th>\n",
       "      <td>0</td>\n",
       "      <td>33</td>\n",
       "      <td>1750</td>\n",
       "      <td>1856.0</td>\n",
       "      <td>26.0</td>\n",
       "      <td>101</td>\n",
       "      <td>15</td>\n",
       "      <td>0</td>\n",
       "      <td>0</td>\n",
       "      <td>0</td>\n",
       "      <td>0</td>\n",
       "      <td>0</td>\n",
       "      <td>1</td>\n",
       "      <td>0</td>\n",
       "      <td>0</td>\n",
       "      <td>0</td>\n",
       "    </tr>\n",
       "    <tr>\n",
       "      <th>4</th>\n",
       "      <td>0</td>\n",
       "      <td>60</td>\n",
       "      <td>26500</td>\n",
       "      <td>490.0</td>\n",
       "      <td>20.0</td>\n",
       "      <td>12</td>\n",
       "      <td>4</td>\n",
       "      <td>0</td>\n",
       "      <td>0</td>\n",
       "      <td>1</td>\n",
       "      <td>0</td>\n",
       "      <td>0</td>\n",
       "      <td>0</td>\n",
       "      <td>0</td>\n",
       "      <td>0</td>\n",
       "      <td>0</td>\n",
       "    </tr>\n",
       "  </tbody>\n",
       "</table>\n",
       "</div>"
      ],
      "text/plain": [
       "   product_tier  make_name  price  search_views  detail_views  stock_days  \\\n",
       "0             0         62  16750        3091.0         123.0          30   \n",
       "1             0         60  35950        3283.0         223.0          52   \n",
       "2             0         60  11950        3247.0         265.0          51   \n",
       "3             0         33   1750        1856.0          26.0         101   \n",
       "4             0         60  26500         490.0          20.0          12   \n",
       "\n",
       "   car_age  first_zip_digit_1  first_zip_digit_2  first_zip_digit_3  \\\n",
       "0        5                  0                  0                  0   \n",
       "1        3                  0                  0                  0   \n",
       "2       20                  0                  0                  1   \n",
       "3       15                  0                  0                  0   \n",
       "4        4                  0                  0                  1   \n",
       "\n",
       "   first_zip_digit_4  first_zip_digit_5  first_zip_digit_6  first_zip_digit_7  \\\n",
       "0                  0                  1                  0                  0   \n",
       "1                  1                  0                  0                  0   \n",
       "2                  0                  0                  0                  0   \n",
       "3                  0                  0                  1                  0   \n",
       "4                  0                  0                  0                  0   \n",
       "\n",
       "   first_zip_digit_8  first_zip_digit_9  \n",
       "0                  0                  0  \n",
       "1                  0                  0  \n",
       "2                  0                  0  \n",
       "3                  0                  0  \n",
       "4                  0                  0  "
      ]
     },
     "execution_count": 56,
     "metadata": {},
     "output_type": "execute_result"
    }
   ],
   "source": [
    "df_reg.head()"
   ]
  },
  {
   "cell_type": "code",
   "execution_count": 57,
   "metadata": {},
   "outputs": [
    {
     "data": {
      "text/html": [
       "<div>\n",
       "<style scoped>\n",
       "    .dataframe tbody tr th:only-of-type {\n",
       "        vertical-align: middle;\n",
       "    }\n",
       "\n",
       "    .dataframe tbody tr th {\n",
       "        vertical-align: top;\n",
       "    }\n",
       "\n",
       "    .dataframe thead th {\n",
       "        text-align: right;\n",
       "    }\n",
       "</style>\n",
       "<table border=\"1\" class=\"dataframe\">\n",
       "  <thead>\n",
       "    <tr style=\"text-align: right;\">\n",
       "      <th></th>\n",
       "      <th>product_tier</th>\n",
       "      <th>make_name</th>\n",
       "      <th>price</th>\n",
       "      <th>search_views</th>\n",
       "      <th>detail_views</th>\n",
       "      <th>stock_days</th>\n",
       "      <th>car_age</th>\n",
       "      <th>first_zip_digit_1</th>\n",
       "      <th>first_zip_digit_2</th>\n",
       "      <th>first_zip_digit_3</th>\n",
       "      <th>first_zip_digit_4</th>\n",
       "      <th>first_zip_digit_5</th>\n",
       "      <th>first_zip_digit_6</th>\n",
       "      <th>first_zip_digit_7</th>\n",
       "      <th>first_zip_digit_8</th>\n",
       "      <th>first_zip_digit_9</th>\n",
       "    </tr>\n",
       "  </thead>\n",
       "  <tbody>\n",
       "    <tr>\n",
       "      <th>count</th>\n",
       "      <td>78297.000000</td>\n",
       "      <td>78297.000000</td>\n",
       "      <td>78297.000000</td>\n",
       "      <td>78297.00000</td>\n",
       "      <td>78297.000000</td>\n",
       "      <td>78297.000000</td>\n",
       "      <td>78297.000000</td>\n",
       "      <td>78297.000000</td>\n",
       "      <td>78297.000000</td>\n",
       "      <td>78297.000000</td>\n",
       "      <td>78297.000000</td>\n",
       "      <td>78297.000000</td>\n",
       "      <td>78297.000000</td>\n",
       "      <td>78297.000000</td>\n",
       "      <td>78297.000000</td>\n",
       "      <td>78297.000000</td>\n",
       "    </tr>\n",
       "    <tr>\n",
       "      <th>mean</th>\n",
       "      <td>0.066720</td>\n",
       "      <td>57.725839</td>\n",
       "      <td>15069.670358</td>\n",
       "      <td>2297.91333</td>\n",
       "      <td>93.486583</td>\n",
       "      <td>35.996373</td>\n",
       "      <td>7.000485</td>\n",
       "      <td>0.098395</td>\n",
       "      <td>0.124002</td>\n",
       "      <td>0.170364</td>\n",
       "      <td>0.086300</td>\n",
       "      <td>0.155281</td>\n",
       "      <td>0.092660</td>\n",
       "      <td>0.140465</td>\n",
       "      <td>0.079237</td>\n",
       "      <td>0.053297</td>\n",
       "    </tr>\n",
       "    <tr>\n",
       "      <th>std</th>\n",
       "      <td>0.348761</td>\n",
       "      <td>26.387580</td>\n",
       "      <td>16375.598837</td>\n",
       "      <td>6339.52668</td>\n",
       "      <td>228.042547</td>\n",
       "      <td>32.211601</td>\n",
       "      <td>6.440443</td>\n",
       "      <td>0.297849</td>\n",
       "      <td>0.329586</td>\n",
       "      <td>0.375955</td>\n",
       "      <td>0.280808</td>\n",
       "      <td>0.362174</td>\n",
       "      <td>0.289957</td>\n",
       "      <td>0.347471</td>\n",
       "      <td>0.270110</td>\n",
       "      <td>0.224627</td>\n",
       "    </tr>\n",
       "    <tr>\n",
       "      <th>min</th>\n",
       "      <td>0.000000</td>\n",
       "      <td>0.000000</td>\n",
       "      <td>50.000000</td>\n",
       "      <td>1.00000</td>\n",
       "      <td>0.000000</td>\n",
       "      <td>0.000000</td>\n",
       "      <td>1.000000</td>\n",
       "      <td>0.000000</td>\n",
       "      <td>0.000000</td>\n",
       "      <td>0.000000</td>\n",
       "      <td>0.000000</td>\n",
       "      <td>0.000000</td>\n",
       "      <td>0.000000</td>\n",
       "      <td>0.000000</td>\n",
       "      <td>0.000000</td>\n",
       "      <td>0.000000</td>\n",
       "    </tr>\n",
       "    <tr>\n",
       "      <th>25%</th>\n",
       "      <td>0.000000</td>\n",
       "      <td>33.000000</td>\n",
       "      <td>5750.000000</td>\n",
       "      <td>368.00000</td>\n",
       "      <td>13.000000</td>\n",
       "      <td>10.000000</td>\n",
       "      <td>3.000000</td>\n",
       "      <td>0.000000</td>\n",
       "      <td>0.000000</td>\n",
       "      <td>0.000000</td>\n",
       "      <td>0.000000</td>\n",
       "      <td>0.000000</td>\n",
       "      <td>0.000000</td>\n",
       "      <td>0.000000</td>\n",
       "      <td>0.000000</td>\n",
       "      <td>0.000000</td>\n",
       "    </tr>\n",
       "    <tr>\n",
       "      <th>50%</th>\n",
       "      <td>0.000000</td>\n",
       "      <td>67.000000</td>\n",
       "      <td>10909.000000</td>\n",
       "      <td>920.00000</td>\n",
       "      <td>36.000000</td>\n",
       "      <td>25.000000</td>\n",
       "      <td>5.000000</td>\n",
       "      <td>0.000000</td>\n",
       "      <td>0.000000</td>\n",
       "      <td>0.000000</td>\n",
       "      <td>0.000000</td>\n",
       "      <td>0.000000</td>\n",
       "      <td>0.000000</td>\n",
       "      <td>0.000000</td>\n",
       "      <td>0.000000</td>\n",
       "      <td>0.000000</td>\n",
       "    </tr>\n",
       "    <tr>\n",
       "      <th>75%</th>\n",
       "      <td>0.000000</td>\n",
       "      <td>78.000000</td>\n",
       "      <td>18890.000000</td>\n",
       "      <td>2234.00000</td>\n",
       "      <td>94.000000</td>\n",
       "      <td>55.000000</td>\n",
       "      <td>10.000000</td>\n",
       "      <td>0.000000</td>\n",
       "      <td>0.000000</td>\n",
       "      <td>0.000000</td>\n",
       "      <td>0.000000</td>\n",
       "      <td>0.000000</td>\n",
       "      <td>0.000000</td>\n",
       "      <td>0.000000</td>\n",
       "      <td>0.000000</td>\n",
       "      <td>0.000000</td>\n",
       "    </tr>\n",
       "    <tr>\n",
       "      <th>max</th>\n",
       "      <td>2.000000</td>\n",
       "      <td>90.000000</td>\n",
       "      <td>249888.000000</td>\n",
       "      <td>608754.00000</td>\n",
       "      <td>13926.000000</td>\n",
       "      <td>127.000000</td>\n",
       "      <td>94.000000</td>\n",
       "      <td>1.000000</td>\n",
       "      <td>1.000000</td>\n",
       "      <td>1.000000</td>\n",
       "      <td>1.000000</td>\n",
       "      <td>1.000000</td>\n",
       "      <td>1.000000</td>\n",
       "      <td>1.000000</td>\n",
       "      <td>1.000000</td>\n",
       "      <td>1.000000</td>\n",
       "    </tr>\n",
       "  </tbody>\n",
       "</table>\n",
       "</div>"
      ],
      "text/plain": [
       "       product_tier     make_name          price  search_views  detail_views  \\\n",
       "count  78297.000000  78297.000000   78297.000000   78297.00000  78297.000000   \n",
       "mean       0.066720     57.725839   15069.670358    2297.91333     93.486583   \n",
       "std        0.348761     26.387580   16375.598837    6339.52668    228.042547   \n",
       "min        0.000000      0.000000      50.000000       1.00000      0.000000   \n",
       "25%        0.000000     33.000000    5750.000000     368.00000     13.000000   \n",
       "50%        0.000000     67.000000   10909.000000     920.00000     36.000000   \n",
       "75%        0.000000     78.000000   18890.000000    2234.00000     94.000000   \n",
       "max        2.000000     90.000000  249888.000000  608754.00000  13926.000000   \n",
       "\n",
       "         stock_days       car_age  first_zip_digit_1  first_zip_digit_2  \\\n",
       "count  78297.000000  78297.000000       78297.000000       78297.000000   \n",
       "mean      35.996373      7.000485           0.098395           0.124002   \n",
       "std       32.211601      6.440443           0.297849           0.329586   \n",
       "min        0.000000      1.000000           0.000000           0.000000   \n",
       "25%       10.000000      3.000000           0.000000           0.000000   \n",
       "50%       25.000000      5.000000           0.000000           0.000000   \n",
       "75%       55.000000     10.000000           0.000000           0.000000   \n",
       "max      127.000000     94.000000           1.000000           1.000000   \n",
       "\n",
       "       first_zip_digit_3  first_zip_digit_4  first_zip_digit_5  \\\n",
       "count       78297.000000       78297.000000       78297.000000   \n",
       "mean            0.170364           0.086300           0.155281   \n",
       "std             0.375955           0.280808           0.362174   \n",
       "min             0.000000           0.000000           0.000000   \n",
       "25%             0.000000           0.000000           0.000000   \n",
       "50%             0.000000           0.000000           0.000000   \n",
       "75%             0.000000           0.000000           0.000000   \n",
       "max             1.000000           1.000000           1.000000   \n",
       "\n",
       "       first_zip_digit_6  first_zip_digit_7  first_zip_digit_8  \\\n",
       "count       78297.000000       78297.000000       78297.000000   \n",
       "mean            0.092660           0.140465           0.079237   \n",
       "std             0.289957           0.347471           0.270110   \n",
       "min             0.000000           0.000000           0.000000   \n",
       "25%             0.000000           0.000000           0.000000   \n",
       "50%             0.000000           0.000000           0.000000   \n",
       "75%             0.000000           0.000000           0.000000   \n",
       "max             1.000000           1.000000           1.000000   \n",
       "\n",
       "       first_zip_digit_9  \n",
       "count       78297.000000  \n",
       "mean            0.053297  \n",
       "std             0.224627  \n",
       "min             0.000000  \n",
       "25%             0.000000  \n",
       "50%             0.000000  \n",
       "75%             0.000000  \n",
       "max             1.000000  "
      ]
     },
     "execution_count": 57,
     "metadata": {},
     "output_type": "execute_result"
    }
   ],
   "source": [
    "df_reg.describe()"
   ]
  },
  {
   "cell_type": "code",
   "execution_count": 58,
   "metadata": {},
   "outputs": [
    {
     "data": {
      "text/html": [
       "<div>\n",
       "<style scoped>\n",
       "    .dataframe tbody tr th:only-of-type {\n",
       "        vertical-align: middle;\n",
       "    }\n",
       "\n",
       "    .dataframe tbody tr th {\n",
       "        vertical-align: top;\n",
       "    }\n",
       "\n",
       "    .dataframe thead th {\n",
       "        text-align: right;\n",
       "    }\n",
       "</style>\n",
       "<table border=\"1\" class=\"dataframe\">\n",
       "  <thead>\n",
       "    <tr style=\"text-align: right;\">\n",
       "      <th></th>\n",
       "      <th>product_tier</th>\n",
       "      <th>make_name</th>\n",
       "      <th>price</th>\n",
       "      <th>search_views</th>\n",
       "      <th>detail_views</th>\n",
       "      <th>stock_days</th>\n",
       "      <th>car_age</th>\n",
       "      <th>first_zip_digit_1</th>\n",
       "      <th>first_zip_digit_2</th>\n",
       "      <th>first_zip_digit_3</th>\n",
       "      <th>first_zip_digit_4</th>\n",
       "      <th>first_zip_digit_5</th>\n",
       "      <th>first_zip_digit_6</th>\n",
       "      <th>first_zip_digit_7</th>\n",
       "      <th>first_zip_digit_8</th>\n",
       "      <th>first_zip_digit_9</th>\n",
       "    </tr>\n",
       "  </thead>\n",
       "  <tbody>\n",
       "    <tr>\n",
       "      <th>product_tier</th>\n",
       "      <td>1.000000</td>\n",
       "      <td>-0.023863</td>\n",
       "      <td>-0.007658</td>\n",
       "      <td>0.315866</td>\n",
       "      <td>0.244744</td>\n",
       "      <td>-0.011465</td>\n",
       "      <td>0.022855</td>\n",
       "      <td>-0.021887</td>\n",
       "      <td>0.098136</td>\n",
       "      <td>-0.013148</td>\n",
       "      <td>-0.027234</td>\n",
       "      <td>-0.011647</td>\n",
       "      <td>-0.026530</td>\n",
       "      <td>-0.002086</td>\n",
       "      <td>0.020753</td>\n",
       "      <td>-0.027621</td>\n",
       "    </tr>\n",
       "    <tr>\n",
       "      <th>make_name</th>\n",
       "      <td>-0.023863</td>\n",
       "      <td>1.000000</td>\n",
       "      <td>-0.098111</td>\n",
       "      <td>-0.050165</td>\n",
       "      <td>-0.065955</td>\n",
       "      <td>-0.027956</td>\n",
       "      <td>-0.030594</td>\n",
       "      <td>-0.011520</td>\n",
       "      <td>-0.010296</td>\n",
       "      <td>-0.010194</td>\n",
       "      <td>0.011579</td>\n",
       "      <td>-0.008721</td>\n",
       "      <td>-0.005342</td>\n",
       "      <td>0.019169</td>\n",
       "      <td>0.006689</td>\n",
       "      <td>0.016230</td>\n",
       "    </tr>\n",
       "    <tr>\n",
       "      <th>price</th>\n",
       "      <td>-0.007658</td>\n",
       "      <td>-0.098111</td>\n",
       "      <td>1.000000</td>\n",
       "      <td>0.002961</td>\n",
       "      <td>0.028855</td>\n",
       "      <td>0.085730</td>\n",
       "      <td>-0.299590</td>\n",
       "      <td>0.044823</td>\n",
       "      <td>-0.007639</td>\n",
       "      <td>-0.011320</td>\n",
       "      <td>0.005118</td>\n",
       "      <td>0.003497</td>\n",
       "      <td>0.026055</td>\n",
       "      <td>-0.022554</td>\n",
       "      <td>-0.007672</td>\n",
       "      <td>-0.030835</td>\n",
       "    </tr>\n",
       "    <tr>\n",
       "      <th>search_views</th>\n",
       "      <td>0.315866</td>\n",
       "      <td>-0.050165</td>\n",
       "      <td>0.002961</td>\n",
       "      <td>1.000000</td>\n",
       "      <td>0.835632</td>\n",
       "      <td>0.271679</td>\n",
       "      <td>0.110189</td>\n",
       "      <td>-0.008087</td>\n",
       "      <td>0.023397</td>\n",
       "      <td>0.003286</td>\n",
       "      <td>-0.013502</td>\n",
       "      <td>-0.002629</td>\n",
       "      <td>-0.003536</td>\n",
       "      <td>0.004924</td>\n",
       "      <td>0.004450</td>\n",
       "      <td>-0.016391</td>\n",
       "    </tr>\n",
       "    <tr>\n",
       "      <th>detail_views</th>\n",
       "      <td>0.244744</td>\n",
       "      <td>-0.065955</td>\n",
       "      <td>0.028855</td>\n",
       "      <td>0.835632</td>\n",
       "      <td>1.000000</td>\n",
       "      <td>0.281627</td>\n",
       "      <td>0.122142</td>\n",
       "      <td>-0.002902</td>\n",
       "      <td>0.008949</td>\n",
       "      <td>0.002517</td>\n",
       "      <td>-0.009597</td>\n",
       "      <td>0.001914</td>\n",
       "      <td>-0.001494</td>\n",
       "      <td>0.009302</td>\n",
       "      <td>0.001757</td>\n",
       "      <td>-0.019157</td>\n",
       "    </tr>\n",
       "    <tr>\n",
       "      <th>stock_days</th>\n",
       "      <td>-0.011465</td>\n",
       "      <td>-0.027956</td>\n",
       "      <td>0.085730</td>\n",
       "      <td>0.271679</td>\n",
       "      <td>0.281627</td>\n",
       "      <td>1.000000</td>\n",
       "      <td>-0.079362</td>\n",
       "      <td>0.022703</td>\n",
       "      <td>0.016927</td>\n",
       "      <td>0.008816</td>\n",
       "      <td>0.006338</td>\n",
       "      <td>-0.007180</td>\n",
       "      <td>0.010001</td>\n",
       "      <td>-0.034188</td>\n",
       "      <td>-0.015661</td>\n",
       "      <td>-0.007235</td>\n",
       "    </tr>\n",
       "    <tr>\n",
       "      <th>car_age</th>\n",
       "      <td>0.022855</td>\n",
       "      <td>-0.030594</td>\n",
       "      <td>-0.299590</td>\n",
       "      <td>0.110189</td>\n",
       "      <td>0.122142</td>\n",
       "      <td>-0.079362</td>\n",
       "      <td>1.000000</td>\n",
       "      <td>-0.007968</td>\n",
       "      <td>-0.030041</td>\n",
       "      <td>0.007382</td>\n",
       "      <td>-0.011930</td>\n",
       "      <td>0.037700</td>\n",
       "      <td>-0.002124</td>\n",
       "      <td>-0.002787</td>\n",
       "      <td>-0.004383</td>\n",
       "      <td>0.008740</td>\n",
       "    </tr>\n",
       "    <tr>\n",
       "      <th>first_zip_digit_1</th>\n",
       "      <td>-0.021887</td>\n",
       "      <td>-0.011520</td>\n",
       "      <td>0.044823</td>\n",
       "      <td>-0.008087</td>\n",
       "      <td>-0.002902</td>\n",
       "      <td>0.022703</td>\n",
       "      <td>-0.007968</td>\n",
       "      <td>1.000000</td>\n",
       "      <td>-0.124291</td>\n",
       "      <td>-0.149700</td>\n",
       "      <td>-0.101527</td>\n",
       "      <td>-0.141638</td>\n",
       "      <td>-0.105569</td>\n",
       "      <td>-0.133546</td>\n",
       "      <td>-0.096910</td>\n",
       "      <td>-0.078383</td>\n",
       "    </tr>\n",
       "    <tr>\n",
       "      <th>first_zip_digit_2</th>\n",
       "      <td>0.098136</td>\n",
       "      <td>-0.010296</td>\n",
       "      <td>-0.007639</td>\n",
       "      <td>0.023397</td>\n",
       "      <td>0.008949</td>\n",
       "      <td>0.016927</td>\n",
       "      <td>-0.030041</td>\n",
       "      <td>-0.124291</td>\n",
       "      <td>1.000000</td>\n",
       "      <td>-0.170494</td>\n",
       "      <td>-0.115629</td>\n",
       "      <td>-0.161312</td>\n",
       "      <td>-0.120233</td>\n",
       "      <td>-0.152095</td>\n",
       "      <td>-0.110370</td>\n",
       "      <td>-0.089270</td>\n",
       "    </tr>\n",
       "    <tr>\n",
       "      <th>first_zip_digit_3</th>\n",
       "      <td>-0.013148</td>\n",
       "      <td>-0.010194</td>\n",
       "      <td>-0.011320</td>\n",
       "      <td>0.003286</td>\n",
       "      <td>0.002517</td>\n",
       "      <td>0.008816</td>\n",
       "      <td>0.007382</td>\n",
       "      <td>-0.149700</td>\n",
       "      <td>-0.170494</td>\n",
       "      <td>1.000000</td>\n",
       "      <td>-0.139267</td>\n",
       "      <td>-0.194289</td>\n",
       "      <td>-0.144813</td>\n",
       "      <td>-0.183188</td>\n",
       "      <td>-0.132934</td>\n",
       "      <td>-0.107520</td>\n",
       "    </tr>\n",
       "    <tr>\n",
       "      <th>first_zip_digit_4</th>\n",
       "      <td>-0.027234</td>\n",
       "      <td>0.011579</td>\n",
       "      <td>0.005118</td>\n",
       "      <td>-0.013502</td>\n",
       "      <td>-0.009597</td>\n",
       "      <td>0.006338</td>\n",
       "      <td>-0.011930</td>\n",
       "      <td>-0.101527</td>\n",
       "      <td>-0.115629</td>\n",
       "      <td>-0.139267</td>\n",
       "      <td>1.000000</td>\n",
       "      <td>-0.131766</td>\n",
       "      <td>-0.098212</td>\n",
       "      <td>-0.124238</td>\n",
       "      <td>-0.090155</td>\n",
       "      <td>-0.072920</td>\n",
       "    </tr>\n",
       "    <tr>\n",
       "      <th>first_zip_digit_5</th>\n",
       "      <td>-0.011647</td>\n",
       "      <td>-0.008721</td>\n",
       "      <td>0.003497</td>\n",
       "      <td>-0.002629</td>\n",
       "      <td>0.001914</td>\n",
       "      <td>-0.007180</td>\n",
       "      <td>0.037700</td>\n",
       "      <td>-0.141638</td>\n",
       "      <td>-0.161312</td>\n",
       "      <td>-0.194289</td>\n",
       "      <td>-0.131766</td>\n",
       "      <td>1.000000</td>\n",
       "      <td>-0.137014</td>\n",
       "      <td>-0.173322</td>\n",
       "      <td>-0.125774</td>\n",
       "      <td>-0.101730</td>\n",
       "    </tr>\n",
       "    <tr>\n",
       "      <th>first_zip_digit_6</th>\n",
       "      <td>-0.026530</td>\n",
       "      <td>-0.005342</td>\n",
       "      <td>0.026055</td>\n",
       "      <td>-0.003536</td>\n",
       "      <td>-0.001494</td>\n",
       "      <td>0.010001</td>\n",
       "      <td>-0.002124</td>\n",
       "      <td>-0.105569</td>\n",
       "      <td>-0.120233</td>\n",
       "      <td>-0.144813</td>\n",
       "      <td>-0.098212</td>\n",
       "      <td>-0.137014</td>\n",
       "      <td>1.000000</td>\n",
       "      <td>-0.129185</td>\n",
       "      <td>-0.093746</td>\n",
       "      <td>-0.075824</td>\n",
       "    </tr>\n",
       "    <tr>\n",
       "      <th>first_zip_digit_7</th>\n",
       "      <td>-0.002086</td>\n",
       "      <td>0.019169</td>\n",
       "      <td>-0.022554</td>\n",
       "      <td>0.004924</td>\n",
       "      <td>0.009302</td>\n",
       "      <td>-0.034188</td>\n",
       "      <td>-0.002787</td>\n",
       "      <td>-0.133546</td>\n",
       "      <td>-0.152095</td>\n",
       "      <td>-0.183188</td>\n",
       "      <td>-0.124238</td>\n",
       "      <td>-0.173322</td>\n",
       "      <td>-0.129185</td>\n",
       "      <td>1.000000</td>\n",
       "      <td>-0.118588</td>\n",
       "      <td>-0.095917</td>\n",
       "    </tr>\n",
       "    <tr>\n",
       "      <th>first_zip_digit_8</th>\n",
       "      <td>0.020753</td>\n",
       "      <td>0.006689</td>\n",
       "      <td>-0.007672</td>\n",
       "      <td>0.004450</td>\n",
       "      <td>0.001757</td>\n",
       "      <td>-0.015661</td>\n",
       "      <td>-0.004383</td>\n",
       "      <td>-0.096910</td>\n",
       "      <td>-0.110370</td>\n",
       "      <td>-0.132934</td>\n",
       "      <td>-0.090155</td>\n",
       "      <td>-0.125774</td>\n",
       "      <td>-0.093746</td>\n",
       "      <td>-0.118588</td>\n",
       "      <td>1.000000</td>\n",
       "      <td>-0.069604</td>\n",
       "    </tr>\n",
       "    <tr>\n",
       "      <th>first_zip_digit_9</th>\n",
       "      <td>-0.027621</td>\n",
       "      <td>0.016230</td>\n",
       "      <td>-0.030835</td>\n",
       "      <td>-0.016391</td>\n",
       "      <td>-0.019157</td>\n",
       "      <td>-0.007235</td>\n",
       "      <td>0.008740</td>\n",
       "      <td>-0.078383</td>\n",
       "      <td>-0.089270</td>\n",
       "      <td>-0.107520</td>\n",
       "      <td>-0.072920</td>\n",
       "      <td>-0.101730</td>\n",
       "      <td>-0.075824</td>\n",
       "      <td>-0.095917</td>\n",
       "      <td>-0.069604</td>\n",
       "      <td>1.000000</td>\n",
       "    </tr>\n",
       "  </tbody>\n",
       "</table>\n",
       "</div>"
      ],
      "text/plain": [
       "                   product_tier  make_name     price  search_views  \\\n",
       "product_tier           1.000000  -0.023863 -0.007658      0.315866   \n",
       "make_name             -0.023863   1.000000 -0.098111     -0.050165   \n",
       "price                 -0.007658  -0.098111  1.000000      0.002961   \n",
       "search_views           0.315866  -0.050165  0.002961      1.000000   \n",
       "detail_views           0.244744  -0.065955  0.028855      0.835632   \n",
       "stock_days            -0.011465  -0.027956  0.085730      0.271679   \n",
       "car_age                0.022855  -0.030594 -0.299590      0.110189   \n",
       "first_zip_digit_1     -0.021887  -0.011520  0.044823     -0.008087   \n",
       "first_zip_digit_2      0.098136  -0.010296 -0.007639      0.023397   \n",
       "first_zip_digit_3     -0.013148  -0.010194 -0.011320      0.003286   \n",
       "first_zip_digit_4     -0.027234   0.011579  0.005118     -0.013502   \n",
       "first_zip_digit_5     -0.011647  -0.008721  0.003497     -0.002629   \n",
       "first_zip_digit_6     -0.026530  -0.005342  0.026055     -0.003536   \n",
       "first_zip_digit_7     -0.002086   0.019169 -0.022554      0.004924   \n",
       "first_zip_digit_8      0.020753   0.006689 -0.007672      0.004450   \n",
       "first_zip_digit_9     -0.027621   0.016230 -0.030835     -0.016391   \n",
       "\n",
       "                   detail_views  stock_days   car_age  first_zip_digit_1  \\\n",
       "product_tier           0.244744   -0.011465  0.022855          -0.021887   \n",
       "make_name             -0.065955   -0.027956 -0.030594          -0.011520   \n",
       "price                  0.028855    0.085730 -0.299590           0.044823   \n",
       "search_views           0.835632    0.271679  0.110189          -0.008087   \n",
       "detail_views           1.000000    0.281627  0.122142          -0.002902   \n",
       "stock_days             0.281627    1.000000 -0.079362           0.022703   \n",
       "car_age                0.122142   -0.079362  1.000000          -0.007968   \n",
       "first_zip_digit_1     -0.002902    0.022703 -0.007968           1.000000   \n",
       "first_zip_digit_2      0.008949    0.016927 -0.030041          -0.124291   \n",
       "first_zip_digit_3      0.002517    0.008816  0.007382          -0.149700   \n",
       "first_zip_digit_4     -0.009597    0.006338 -0.011930          -0.101527   \n",
       "first_zip_digit_5      0.001914   -0.007180  0.037700          -0.141638   \n",
       "first_zip_digit_6     -0.001494    0.010001 -0.002124          -0.105569   \n",
       "first_zip_digit_7      0.009302   -0.034188 -0.002787          -0.133546   \n",
       "first_zip_digit_8      0.001757   -0.015661 -0.004383          -0.096910   \n",
       "first_zip_digit_9     -0.019157   -0.007235  0.008740          -0.078383   \n",
       "\n",
       "                   first_zip_digit_2  first_zip_digit_3  first_zip_digit_4  \\\n",
       "product_tier                0.098136          -0.013148          -0.027234   \n",
       "make_name                  -0.010296          -0.010194           0.011579   \n",
       "price                      -0.007639          -0.011320           0.005118   \n",
       "search_views                0.023397           0.003286          -0.013502   \n",
       "detail_views                0.008949           0.002517          -0.009597   \n",
       "stock_days                  0.016927           0.008816           0.006338   \n",
       "car_age                    -0.030041           0.007382          -0.011930   \n",
       "first_zip_digit_1          -0.124291          -0.149700          -0.101527   \n",
       "first_zip_digit_2           1.000000          -0.170494          -0.115629   \n",
       "first_zip_digit_3          -0.170494           1.000000          -0.139267   \n",
       "first_zip_digit_4          -0.115629          -0.139267           1.000000   \n",
       "first_zip_digit_5          -0.161312          -0.194289          -0.131766   \n",
       "first_zip_digit_6          -0.120233          -0.144813          -0.098212   \n",
       "first_zip_digit_7          -0.152095          -0.183188          -0.124238   \n",
       "first_zip_digit_8          -0.110370          -0.132934          -0.090155   \n",
       "first_zip_digit_9          -0.089270          -0.107520          -0.072920   \n",
       "\n",
       "                   first_zip_digit_5  first_zip_digit_6  first_zip_digit_7  \\\n",
       "product_tier               -0.011647          -0.026530          -0.002086   \n",
       "make_name                  -0.008721          -0.005342           0.019169   \n",
       "price                       0.003497           0.026055          -0.022554   \n",
       "search_views               -0.002629          -0.003536           0.004924   \n",
       "detail_views                0.001914          -0.001494           0.009302   \n",
       "stock_days                 -0.007180           0.010001          -0.034188   \n",
       "car_age                     0.037700          -0.002124          -0.002787   \n",
       "first_zip_digit_1          -0.141638          -0.105569          -0.133546   \n",
       "first_zip_digit_2          -0.161312          -0.120233          -0.152095   \n",
       "first_zip_digit_3          -0.194289          -0.144813          -0.183188   \n",
       "first_zip_digit_4          -0.131766          -0.098212          -0.124238   \n",
       "first_zip_digit_5           1.000000          -0.137014          -0.173322   \n",
       "first_zip_digit_6          -0.137014           1.000000          -0.129185   \n",
       "first_zip_digit_7          -0.173322          -0.129185           1.000000   \n",
       "first_zip_digit_8          -0.125774          -0.093746          -0.118588   \n",
       "first_zip_digit_9          -0.101730          -0.075824          -0.095917   \n",
       "\n",
       "                   first_zip_digit_8  first_zip_digit_9  \n",
       "product_tier                0.020753          -0.027621  \n",
       "make_name                   0.006689           0.016230  \n",
       "price                      -0.007672          -0.030835  \n",
       "search_views                0.004450          -0.016391  \n",
       "detail_views                0.001757          -0.019157  \n",
       "stock_days                 -0.015661          -0.007235  \n",
       "car_age                    -0.004383           0.008740  \n",
       "first_zip_digit_1          -0.096910          -0.078383  \n",
       "first_zip_digit_2          -0.110370          -0.089270  \n",
       "first_zip_digit_3          -0.132934          -0.107520  \n",
       "first_zip_digit_4          -0.090155          -0.072920  \n",
       "first_zip_digit_5          -0.125774          -0.101730  \n",
       "first_zip_digit_6          -0.093746          -0.075824  \n",
       "first_zip_digit_7          -0.118588          -0.095917  \n",
       "first_zip_digit_8           1.000000          -0.069604  \n",
       "first_zip_digit_9          -0.069604           1.000000  "
      ]
     },
     "execution_count": 58,
     "metadata": {},
     "output_type": "execute_result"
    }
   ],
   "source": [
    "df_reg.corr()"
   ]
  },
  {
   "cell_type": "markdown",
   "metadata": {},
   "source": [
    "#### Evaluation with the data(baseline) "
   ]
  },
  {
   "cell_type": "code",
   "execution_count": 59,
   "metadata": {},
   "outputs": [],
   "source": [
    "X,y = df_reg.drop(['detail_views'],axis=1),df_reg.detail_views\n"
   ]
  },
  {
   "cell_type": "code",
   "execution_count": 60,
   "metadata": {},
   "outputs": [
    {
     "data": {
      "text/html": [
       "<div>\n",
       "<style scoped>\n",
       "    .dataframe tbody tr th:only-of-type {\n",
       "        vertical-align: middle;\n",
       "    }\n",
       "\n",
       "    .dataframe tbody tr th {\n",
       "        vertical-align: top;\n",
       "    }\n",
       "\n",
       "    .dataframe thead th {\n",
       "        text-align: right;\n",
       "    }\n",
       "</style>\n",
       "<table border=\"1\" class=\"dataframe\">\n",
       "  <thead>\n",
       "    <tr style=\"text-align: right;\">\n",
       "      <th></th>\n",
       "      <th>product_tier</th>\n",
       "      <th>make_name</th>\n",
       "      <th>price</th>\n",
       "      <th>search_views</th>\n",
       "      <th>stock_days</th>\n",
       "      <th>car_age</th>\n",
       "      <th>first_zip_digit_1</th>\n",
       "      <th>first_zip_digit_2</th>\n",
       "      <th>first_zip_digit_3</th>\n",
       "      <th>first_zip_digit_4</th>\n",
       "      <th>first_zip_digit_5</th>\n",
       "      <th>first_zip_digit_6</th>\n",
       "      <th>first_zip_digit_7</th>\n",
       "      <th>first_zip_digit_8</th>\n",
       "      <th>first_zip_digit_9</th>\n",
       "    </tr>\n",
       "  </thead>\n",
       "  <tbody>\n",
       "    <tr>\n",
       "      <th>0</th>\n",
       "      <td>0</td>\n",
       "      <td>62</td>\n",
       "      <td>16750</td>\n",
       "      <td>3091.0</td>\n",
       "      <td>30</td>\n",
       "      <td>5</td>\n",
       "      <td>0</td>\n",
       "      <td>0</td>\n",
       "      <td>0</td>\n",
       "      <td>0</td>\n",
       "      <td>1</td>\n",
       "      <td>0</td>\n",
       "      <td>0</td>\n",
       "      <td>0</td>\n",
       "      <td>0</td>\n",
       "    </tr>\n",
       "    <tr>\n",
       "      <th>1</th>\n",
       "      <td>0</td>\n",
       "      <td>60</td>\n",
       "      <td>35950</td>\n",
       "      <td>3283.0</td>\n",
       "      <td>52</td>\n",
       "      <td>3</td>\n",
       "      <td>0</td>\n",
       "      <td>0</td>\n",
       "      <td>0</td>\n",
       "      <td>1</td>\n",
       "      <td>0</td>\n",
       "      <td>0</td>\n",
       "      <td>0</td>\n",
       "      <td>0</td>\n",
       "      <td>0</td>\n",
       "    </tr>\n",
       "    <tr>\n",
       "      <th>2</th>\n",
       "      <td>0</td>\n",
       "      <td>60</td>\n",
       "      <td>11950</td>\n",
       "      <td>3247.0</td>\n",
       "      <td>51</td>\n",
       "      <td>20</td>\n",
       "      <td>0</td>\n",
       "      <td>0</td>\n",
       "      <td>1</td>\n",
       "      <td>0</td>\n",
       "      <td>0</td>\n",
       "      <td>0</td>\n",
       "      <td>0</td>\n",
       "      <td>0</td>\n",
       "      <td>0</td>\n",
       "    </tr>\n",
       "    <tr>\n",
       "      <th>3</th>\n",
       "      <td>0</td>\n",
       "      <td>33</td>\n",
       "      <td>1750</td>\n",
       "      <td>1856.0</td>\n",
       "      <td>101</td>\n",
       "      <td>15</td>\n",
       "      <td>0</td>\n",
       "      <td>0</td>\n",
       "      <td>0</td>\n",
       "      <td>0</td>\n",
       "      <td>0</td>\n",
       "      <td>1</td>\n",
       "      <td>0</td>\n",
       "      <td>0</td>\n",
       "      <td>0</td>\n",
       "    </tr>\n",
       "    <tr>\n",
       "      <th>4</th>\n",
       "      <td>0</td>\n",
       "      <td>60</td>\n",
       "      <td>26500</td>\n",
       "      <td>490.0</td>\n",
       "      <td>12</td>\n",
       "      <td>4</td>\n",
       "      <td>0</td>\n",
       "      <td>0</td>\n",
       "      <td>1</td>\n",
       "      <td>0</td>\n",
       "      <td>0</td>\n",
       "      <td>0</td>\n",
       "      <td>0</td>\n",
       "      <td>0</td>\n",
       "      <td>0</td>\n",
       "    </tr>\n",
       "  </tbody>\n",
       "</table>\n",
       "</div>"
      ],
      "text/plain": [
       "   product_tier  make_name  price  search_views  stock_days  car_age  \\\n",
       "0             0         62  16750        3091.0          30        5   \n",
       "1             0         60  35950        3283.0          52        3   \n",
       "2             0         60  11950        3247.0          51       20   \n",
       "3             0         33   1750        1856.0         101       15   \n",
       "4             0         60  26500         490.0          12        4   \n",
       "\n",
       "   first_zip_digit_1  first_zip_digit_2  first_zip_digit_3  first_zip_digit_4  \\\n",
       "0                  0                  0                  0                  0   \n",
       "1                  0                  0                  0                  1   \n",
       "2                  0                  0                  1                  0   \n",
       "3                  0                  0                  0                  0   \n",
       "4                  0                  0                  1                  0   \n",
       "\n",
       "   first_zip_digit_5  first_zip_digit_6  first_zip_digit_7  first_zip_digit_8  \\\n",
       "0                  1                  0                  0                  0   \n",
       "1                  0                  0                  0                  0   \n",
       "2                  0                  0                  0                  0   \n",
       "3                  0                  1                  0                  0   \n",
       "4                  0                  0                  0                  0   \n",
       "\n",
       "   first_zip_digit_9  \n",
       "0                  0  \n",
       "1                  0  \n",
       "2                  0  \n",
       "3                  0  \n",
       "4                  0  "
      ]
     },
     "execution_count": 60,
     "metadata": {},
     "output_type": "execute_result"
    }
   ],
   "source": [
    "X.head()"
   ]
  },
  {
   "cell_type": "code",
   "execution_count": 61,
   "metadata": {},
   "outputs": [
    {
     "name": "stdout",
     "output_type": "stream",
     "text": [
      "Linear Regression: RMSE=124.02\n",
      "Ridge: RMSE=124.02\n",
      "Lasso: RMSE=124.00\n",
      "ElasticNet: RMSE=123.93\n",
      "k-NN: RMSE=128.34\n",
      "Decision Tree: RMSE=159.39\n"
     ]
    }
   ],
   "source": [
    "evaluate_multiple(X,y)"
   ]
  },
  {
   "cell_type": "markdown",
   "metadata": {},
   "source": [
    "#### Evaluation with the normalized data"
   ]
  },
  {
   "cell_type": "markdown",
   "metadata": {},
   "source": [
    "The data is normalized using MinMaxSclaer."
   ]
  },
  {
   "cell_type": "code",
   "execution_count": 62,
   "metadata": {},
   "outputs": [],
   "source": [
    "X_norm = pd.DataFrame(preprocessing.MinMaxScaler().fit_transform(X.select_dtypes(np.number)))"
   ]
  },
  {
   "cell_type": "code",
   "execution_count": 63,
   "metadata": {},
   "outputs": [
    {
     "name": "stdout",
     "output_type": "stream",
     "text": [
      "Linear Regression: RMSE=124.02\n",
      "Ridge: RMSE=125.08\n",
      "Lasso: RMSE=159.51\n",
      "ElasticNet: RMSE=223.14\n",
      "k-NN: RMSE=180.46\n",
      "Decision Tree: RMSE=157.85\n"
     ]
    }
   ],
   "source": [
    "evaluate_multiple(X_norm,y)"
   ]
  },
  {
   "cell_type": "markdown",
   "metadata": {},
   "source": [
    "We see that the normalization did not improve the performance!"
   ]
  },
  {
   "cell_type": "markdown",
   "metadata": {},
   "source": [
    "#### Evaluation with the SIngle Value Decomposed data"
   ]
  },
  {
   "cell_type": "markdown",
   "metadata": {},
   "source": [
    "The matrix is decomposed using SVD and first 3 components are selected."
   ]
  },
  {
   "cell_type": "code",
   "execution_count": 64,
   "metadata": {},
   "outputs": [],
   "source": [
    "X_svd = pd.DataFrame(PCA(n_components = 3).fit_transform(X.select_dtypes(np.number)))"
   ]
  },
  {
   "cell_type": "code",
   "execution_count": 65,
   "metadata": {},
   "outputs": [
    {
     "data": {
      "text/html": [
       "<div>\n",
       "<style scoped>\n",
       "    .dataframe tbody tr th:only-of-type {\n",
       "        vertical-align: middle;\n",
       "    }\n",
       "\n",
       "    .dataframe tbody tr th {\n",
       "        vertical-align: top;\n",
       "    }\n",
       "\n",
       "    .dataframe thead th {\n",
       "        text-align: right;\n",
       "    }\n",
       "</style>\n",
       "<table border=\"1\" class=\"dataframe\">\n",
       "  <thead>\n",
       "    <tr style=\"text-align: right;\">\n",
       "      <th></th>\n",
       "      <th>0</th>\n",
       "      <th>1</th>\n",
       "      <th>2</th>\n",
       "    </tr>\n",
       "  </thead>\n",
       "  <tbody>\n",
       "    <tr>\n",
       "      <th>0</th>\n",
       "      <td>1681.396139</td>\n",
       "      <td>790.809323</td>\n",
       "      <td>7.419941</td>\n",
       "    </tr>\n",
       "    <tr>\n",
       "      <th>1</th>\n",
       "      <td>20881.641226</td>\n",
       "      <td>956.942093</td>\n",
       "      <td>-11.077099</td>\n",
       "    </tr>\n",
       "    <tr>\n",
       "      <th>2</th>\n",
       "      <td>-3118.386862</td>\n",
       "      <td>953.314445</td>\n",
       "      <td>-13.939227</td>\n",
       "    </tr>\n",
       "    <tr>\n",
       "      <th>3</th>\n",
       "      <td>-13320.239800</td>\n",
       "      <td>-423.850957</td>\n",
       "      <td>-68.191884</td>\n",
       "    </tr>\n",
       "    <tr>\n",
       "      <th>4</th>\n",
       "      <td>11427.876703</td>\n",
       "      <td>-1823.361304</td>\n",
       "      <td>23.445515</td>\n",
       "    </tr>\n",
       "  </tbody>\n",
       "</table>\n",
       "</div>"
      ],
      "text/plain": [
       "              0            1          2\n",
       "0   1681.396139   790.809323   7.419941\n",
       "1  20881.641226   956.942093 -11.077099\n",
       "2  -3118.386862   953.314445 -13.939227\n",
       "3 -13320.239800  -423.850957 -68.191884\n",
       "4  11427.876703 -1823.361304  23.445515"
      ]
     },
     "execution_count": 65,
     "metadata": {},
     "output_type": "execute_result"
    }
   ],
   "source": [
    "X_svd.head()"
   ]
  },
  {
   "cell_type": "code",
   "execution_count": 66,
   "metadata": {},
   "outputs": [
    {
     "name": "stdout",
     "output_type": "stream",
     "text": [
      "Linear Regression: RMSE=124.44\n",
      "Ridge: RMSE=124.44\n",
      "Lasso: RMSE=124.44\n",
      "ElasticNet: RMSE=124.44\n",
      "k-NN: RMSE=128.36\n",
      "Decision Tree: RMSE=163.21\n"
     ]
    }
   ],
   "source": [
    "evaluate_multiple(X_svd,y)"
   ]
  },
  {
   "cell_type": "markdown",
   "metadata": {},
   "source": [
    "The performance of the model is slightly better."
   ]
  },
  {
   "cell_type": "markdown",
   "metadata": {},
   "source": [
    "We look into some specific regression model in detail."
   ]
  },
  {
   "cell_type": "markdown",
   "metadata": {},
   "source": [
    "##### Linear Regression"
   ]
  },
  {
   "cell_type": "code",
   "execution_count": 67,
   "metadata": {},
   "outputs": [],
   "source": [
    "reg = linear_model.LinearRegression().fit(X_svd,y)"
   ]
  },
  {
   "cell_type": "code",
   "execution_count": 68,
   "metadata": {},
   "outputs": [
    {
     "data": {
      "text/plain": [
       "0.7019785150667037"
      ]
     },
     "execution_count": 68,
     "metadata": {},
     "output_type": "execute_result"
    }
   ],
   "source": [
    "reg.score(X_svd,y)\n"
   ]
  },
  {
   "cell_type": "markdown",
   "metadata": {},
   "source": [
    "The model has R^2 value of 0.7 implying average confidence. However there is lot of variance in the detail view data."
   ]
  },
  {
   "cell_type": "code",
   "execution_count": 69,
   "metadata": {},
   "outputs": [
    {
     "data": {
      "text/plain": [
       "array([ 0.0004079 ,  0.03005564, -0.40443801])"
      ]
     },
     "execution_count": 69,
     "metadata": {},
     "output_type": "execute_result"
    }
   ],
   "source": [
    "reg.coef_"
   ]
  },
  {
   "cell_type": "code",
   "execution_count": 70,
   "metadata": {},
   "outputs": [
    {
     "data": {
      "text/plain": [
       "[<matplotlib.lines.Line2D at 0x1b2e4fce4a8>]"
      ]
     },
     "execution_count": 70,
     "metadata": {},
     "output_type": "execute_result"
    },
    {
     "data": {
      "image/png": "[encoded data removed]",
      "text/plain": [
       "<Figure size 432x288 with 1 Axes>"
      ]
     },
     "metadata": {
      "needs_background": "light"
     },
     "output_type": "display_data"
    }
   ],
   "source": [
    "plt.plot(range(len(X_svd)),y-reg.predict(X_svd))"
   ]
  },
  {
   "cell_type": "markdown",
   "metadata": {},
   "source": [
    "##### Decision Tree Regressor"
   ]
  },
  {
   "cell_type": "code",
   "execution_count": 71,
   "metadata": {},
   "outputs": [],
   "source": [
    "reg = DecisionTreeRegressor(max_depth=20).fit(X_norm,y)"
   ]
  },
  {
   "cell_type": "code",
   "execution_count": 74,
   "metadata": {},
   "outputs": [
    {
     "data": {
      "text/plain": [
       "array([0.49599039, 0.60576635, 0.63802332, 0.46164601, 0.55927515,\n",
       "       0.54691698, 0.33904832, 0.61098427, 0.37531058, 0.53619109])"
      ]
     },
     "execution_count": 74,
     "metadata": {},
     "output_type": "execute_result"
    }
   ],
   "source": [
    "score = cross_val_score(DecisionTreeRegressor(max_depth=20), X_norm, y, cv=10)\n",
    "score"
   ]
  },
  {
   "cell_type": "code",
   "execution_count": 73,
   "metadata": {},
   "outputs": [
    {
     "data": {
      "text/plain": [
       "[<matplotlib.lines.Line2D at 0x1b2e4f66a90>]"
      ]
     },
     "execution_count": 73,
     "metadata": {},
     "output_type": "execute_result"
    },
    {
     "data": {
      "image/png": "[encoded data removed]",
      "text/plain": [
       "<Figure size 432x288 with 1 Axes>"
      ]
     },
     "metadata": {
      "needs_background": "light"
     },
     "output_type": "display_data"
    }
   ],
   "source": [
    "plt.plot(range(len(X_norm)),y-reg.predict(X_norm))"
   ]
  },
  {
   "cell_type": "code",
   "execution_count": null,
   "metadata": {},
   "outputs": [],
   "source": []
  }
 ],
 "metadata": {
  "kernelspec": {
   "display_name": "Python 3",
   "language": "python",
   "name": "python3"
  },
  "language_info": {
   "codemirror_mode": {
    "name": "ipython",
    "version": 3
   },
   "file_extension": ".py",
   "mimetype": "text/x-python",
   "name": "python",
   "nbconvert_exporter": "python",
   "pygments_lexer": "ipython3",
   "version": "3.7.7"
  }
 },
 "nbformat": 4,
 "nbformat_minor": 4
}
